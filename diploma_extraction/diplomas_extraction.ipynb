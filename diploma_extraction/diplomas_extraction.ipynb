{
 "cells": [
  {
   "cell_type": "markdown",
   "metadata": {
    "id": "97-iRXayzo68"
   },
   "source": [
    "# Data extraction from the title page of the thesis"
   ]
  },
  {
   "cell_type": "markdown",
   "metadata": {
    "id": "b-MccXJbzo7A"
   },
   "source": [
    "### Data\n",
    "\n",
    "Data is in the same directory, in `diploms` folder.\n",
    "\n",
    "If `diplomas_pdftotext.csv` file exists, there is no need to extract text from pdf, move on next section"
   ]
  },
  {
   "cell_type": "code",
   "execution_count": 1,
   "metadata": {
    "colab": {
     "base_uri": "https://localhost:8080/"
    },
    "id": "DVx5vFeP4DX0",
    "outputId": "e4199edf-957b-4f54-9a9e-0d9fb81d2012"
   },
   "outputs": [],
   "source": [
    "# !sudo apt-get update\n",
    "# !sudo apt-get install build-essential libpoppler-cpp-dev pkg-config python-dev\n",
    "# !pip install pdftotext"
   ]
  },
  {
   "cell_type": "code",
   "execution_count": 2,
   "metadata": {},
   "outputs": [],
   "source": [
    "import warnings\n",
    "warnings.filterwarnings('ignore')"
   ]
  },
  {
   "cell_type": "code",
   "execution_count": 3,
   "metadata": {
    "id": "EOeCFHvrzo7B"
   },
   "outputs": [],
   "source": [
    "# pdftotext\n",
    "import pdftotext\n",
    "\n",
    "# pandas\n",
    "import pandas as pd\n",
    "\n",
    "import re\n",
    "\n",
    "# file system\n",
    "from os import listdir\n",
    "from os.path import isfile, join"
   ]
  },
  {
   "cell_type": "code",
   "execution_count": 4,
   "metadata": {
    "id": "sVe532yIzo7C"
   },
   "outputs": [],
   "source": [
    "def get_text_from_main_page_pdftotext(filename: str) -> str:\n",
    "    with open(filename, 'rb') as f:\n",
    "        pdf = pdftotext.PDF(f)\n",
    "        main_page = pdf[0]\n",
    "        \n",
    "        # look up in second page for info \n",
    "        second_page = re.findall(r\"(?i)^([\\s\\S]*)оглавление|содержание\", pdf[1])\n",
    "        if len(second_page) > 0 :\n",
    "            main_page += second_page[0]\n",
    "#             print(second_page)\n",
    "\n",
    "        # look up in third page for info \n",
    "        else:\n",
    "            third_page = re.findall(r\"(?i)^([\\s\\S]*)оглавление|содержание\", pdf[2])\n",
    "            if len(third_page) > 0 :\n",
    "                main_page += pdf[1]        # add second too\n",
    "                main_page += third_page[0]\n",
    "#                 print(main_page)\n",
    "            \n",
    "        return main_page"
   ]
  },
  {
   "cell_type": "code",
   "execution_count": 5,
   "metadata": {
    "colab": {
     "base_uri": "https://localhost:8080/"
    },
    "id": "xy7TL-bGzo7D",
    "outputId": "0b099a76-4236-453b-8809-c0a6d04d557a"
   },
   "outputs": [
    {
     "name": "stdout",
     "output_type": "stream",
     "text": [
      "\u001b[32mSuccess \u001b[0m- diploms/msu/2019_Ginzburg.pdf\n",
      "\u001b[32mSuccess \u001b[0m- diploms/msu/ameridi_a_d.pdf\n",
      "\u001b[32mSuccess \u001b[0m- diploms/msu/aristov_g_d.pdf\n",
      "\u001b[32mSuccess \u001b[0m- diploms/msu/bagratuni_d_g.pdf\n",
      "\u001b[32mSuccess \u001b[0m- diploms/msu/îá¼áÑóÅé_»αÑñºáΘ¿Γá_ñ¿»½«¼á.pdf\n",
      "\u001b[32mSuccess \u001b[0m- diploms/msu/2019_Bobrovsky.pdf\n",
      "\u001b[32mSuccess \u001b[0m- diploms/msu/antonov_a_s.pdf\n",
      "\u001b[32mSuccess \u001b[0m- diploms/msu/Resistance prediction.pdf\n",
      "\u001b[32mSuccess \u001b[0m- diploms/msu/azyukina_e_a.pdf\n",
      "\u001b[32mSuccess \u001b[0m- diploms/msu/bozheva_a_yu.pdf\n",
      "\u001b[32mSuccess \u001b[0m- diploms/msu/anisimov_a_v.pdf\n",
      "\u001b[32mSuccess \u001b[0m- diploms/msu/2019_Vostrov.pdf\n",
      "\u001b[32mSuccess \u001b[0m- diploms/msu/antonova_e_v1.pdf\n",
      "\u001b[32mSuccess \u001b[0m- diploms/msu/aksyonenko__a_a.pdf\n",
      "\u001b[32mSuccess \u001b[0m- diploms/msu/Badalyan_master_project.pdf\n",
      "\u001b[32mSuccess \u001b[0m- diploms/msu/baranova_p_o.pdf\n",
      "\u001b[32mSuccess \u001b[0m- diploms/msu/çδ¬¿¡éîè4»αÑñºáΘ¿Γá.pdf\n",
      "\u001b[32mSuccess \u001b[0m- diploms/msu/òá¡ñª∩¡. îáú ñ¿ßßÑα.pdf\n",
      "\u001b[32mSuccess \u001b[0m- diploms/msu/bisultanov_ya_h_.pdf\n",
      "\u001b[32mSuccess \u001b[0m- diploms/msu/diploma_text.pdf\n",
      "\u001b[32mSuccess \u001b[0m- diploms/msu/berestov_m_v.pdf\n",
      "\u001b[32mSuccess \u001b[0m- diploms/msu/baranova_p_o (1).pdf\n",
      "\u001b[32mSuccess \u001b[0m- diploms/msu/Diploma_Bak.pdf\n",
      "\u001b[32mSuccess \u001b[0m- diploms/msu/abramova_n_v.pdf\n",
      "\u001b[32mSuccess \u001b[0m- diploms/msu/besedin_g_e.pdf\n",
      "\u001b[32mSuccess \u001b[0m- diploms/msu/badretdinova_l_r.pdf\n",
      "\u001b[32mSuccess \u001b[0m- diploms/msu/bocharov_s_d.pdf\n",
      "\u001b[32mSuccess \u001b[0m- diploms/msu/aleksandrova_e_yu.pdf\n",
      "\u001b[32mSuccess \u001b[0m- diploms/msu/mahankova_n_a.pdf\n",
      "\u001b[32mSuccess \u001b[0m- diploms/msu/éèÉ.pdf\n",
      "\u001b[32mSuccess \u001b[0m- diploms/hse/antipenko_vm_proekt-pedagogicheskiy-volonter-kak-model-podderjki-uchastnikov-obrazovatelnyh-otnosheniy-pri-pereh_155975.pdf\n",
      "\u001b[32mSuccess \u001b[0m- diploms/hse/gyuninen_ov_upravlenie-talantami-kak-faktor-razvitiya-organizacionnoy-kultury-na-primere-obrazovatelnyh-organiz_155285.pdf\n",
      "\u001b[32mSuccess \u001b[0m- diploms/hse/borodin_myu_ocenka-stoimosti-brenda-rossiyskoy-kompanii_108820.pdf\n",
      "\u001b[32mSuccess \u001b[0m- diploms/hse/asanova_ev_zashchita-prav-i-zakonnyh-interesov-predprinimateley_109951.pdf\n",
      "\u001b[32mSuccess \u001b[0m- diploms/hse/1.pdf\n",
      "\u001b[32mSuccess \u001b[0m- diploms/hse/bazueva_em_gotovnost-rukovoditeley-obrazovatelnyh-uchrejdeniy-k-ispolzovaniyu-idey-nacionalnoy-sistemy-uchitel_155296.pdf\n",
      "\u001b[32mSuccess \u001b[0m- diploms/hse/belova_kd_aktualnye-problemy-dosudebnogo-uregulirovaniya-nalogovyh-sporov-v-rossiyskoy-federacii_110113.pdf\n",
      "\u001b[32mSuccess \u001b[0m- diploms/hse/alekseeva_e_a.pdf\n",
      "\u001b[32mSuccess \u001b[0m- diploms/hse/vlasova_ad_infografika-kak-instrument-formirovaniya-politicheskoy-gramotnosti-uchashchihsya-10-11-klassov_156210.pdf\n",
      "\u001b[32mSuccess \u001b[0m- diploms/hse/georgiev_gp_optimizaciya-transportnogo-obespecheniya-cepi-postavok-farmacevticheskoy-produkcii-na-primere-ooo-ilar_155446.pdf\n",
      "\u001b[32mSuccess \u001b[0m- diploms/hse/5.pdf\n",
      "\u001b[32mSuccess \u001b[0m- diploms/hse/vaskina_tv_ispolzovanie-narrativov-o-sovetskom-proshlom-v-diskursah-partiy-edinaya-rossiya-i-kprf-2010-2020-gg_156134.pdf\n",
      "\u001b[32mSuccess \u001b[0m- diploms/hse/3.pdf\n",
      "\u001b[32mSuccess \u001b[0m- diploms/hse/4.pdf\n",
      "\u001b[32mSuccess \u001b[0m- diploms/hse/brodnikovskaya_da_obrazovatelnye-tehnologii-scenarnogo-tipa-dlya-obucheniya-inostrannym-yazykam-v-vuzah-i-centrah-dopolni_155916.pdf\n",
      "\u001b[32mSuccess \u001b[0m- diploms/hse/astanchuk_va_tehnologiya-organizacii-zapuska-programmy-dopolnitelnogo-professionalnogo-obrazovaniya-v-oblasti-upr_155477.pdf\n",
      "\u001b[32mSuccess \u001b[0m- diploms/hse/gabova_sn_prava-rebenka-v-sovremennom-mire_110106.pdf\n",
      "\u001b[32mSuccess \u001b[0m- diploms/hse/danilova_mv_transformaciya-estestvenno-nauchnogo-obrazovaniya-dlya-formirovaniya-individualnyh-obrazovatelnyh-i-kar_156006.pdf\n",
      "\u001b[32mSuccess \u001b[0m- diploms/hse/aleksandrova_nn_proektirovanie-informacionnoy-sistemy-po-formirovaniyu-tehnicheskogo-zadaniya-v-celyah-provedeniya-avtoma_109256.pdf\n",
      "\u001b[32mSuccess \u001b[0m- diploms/hse/gizi_as_model-konsultacionnogo-centra-dlya-obshcheobrazovatelnyh-organizaciy-i-organov-upravleniya-obrazovanie_155498.pdf\n",
      "\u001b[32mSuccess \u001b[0m- diploms/hse/vaseneva_ma_povyshenie-finansovyh-rezultatov-deyatelnosti-organizacii_155612.pdf\n",
      "\u001b[32mSuccess \u001b[0m- diploms/hse/2.pdf\n",
      "\u001b[32mSuccess \u001b[0m- diploms/hse/bajenova_vv_pravovoe-regulirovanie-izyatiya-vykupa-zemelnyh-uchastkov-dlya-gosudarstvennyh-i-municipalnyh-nujd_110115.pdf\n",
      "\u001b[32mSuccess \u001b[0m- diploms/hse/agisheva_da_subekty-sovremennogo-mejdunarodnogo-prava_109937.pdf\n",
      "\u001b[32mSuccess \u001b[0m- diploms/hse/bavykina_mp_issledovanie-vozmojnosti-obnarujeniya-fragmentov-faylov-ispolzuyushchih-vysokoeffektivnyy-format-hranen_155518.pdf\n",
      "\u001b[32mSuccess \u001b[0m- diploms/hse/afanaseva_nb_razrabotka-modeli-magistratury-prikladnyh-issledovaniy-proektno-issledovatelskoy-magistratury_155860.pdf\n",
      "\u001b[32mSuccess \u001b[0m- diploms/Rau/Копия Акопян Арман - Дипломная.pdf\n",
      "\u001b[32mSuccess \u001b[0m- diploms/Rau/Копия Саакян Мигран (2).pdf\n",
      "\u001b[32mSuccess \u001b[0m- diploms/Rau/Копия Lusine_Hayrapetyan_Diplom.pdf\n",
      "\u001b[32mSuccess \u001b[0m- diploms/Rau/Копия Яйлоян Натали Арамовна MM.pdf\n",
      "\u001b[32mSuccess \u001b[0m- diploms/Rau/Копия Аветисян Давид.pdf\n",
      "\u001b[32mSuccess \u001b[0m- diploms/Rau/Копия Адян-Артур-1_30_May_2020-124703.pdf\n",
      "\u001b[32mSuccess \u001b[0m- diploms/Rau/Копия ArturVaganyan.pdf\n",
      "\u001b[32mSuccess \u001b[0m- diploms/Rau/Копия diplomayin_Lilit_Papyan.pdf\n",
      "\u001b[32mSuccess \u001b[0m- diploms/Rau/Копия Diplomain_with_corrections.pdf\n",
      "\u001b[32mSuccess \u001b[0m- diploms/Rau/Копия diplom-Mary Bagratunyan.pdf\n",
      "\u001b[32mSuccess \u001b[0m- diploms/Rau/Копия Асатрян Нарек Арамович.pdf\n",
      "\u001b[32mSuccess \u001b[0m- diploms/Rau/Копия Петросян Тигран diplomayin_2020.pdf\n",
      "\u001b[32mSuccess \u001b[0m- diploms/Rau/Копия Дипломная Аракелян Аргишти.pdf\n",
      "\u001b[32mSuccess \u001b[0m- diploms/Rau/Копия Григорян Джон.pdf\n",
      "\u001b[32mSuccess \u001b[0m- diploms/Rau/Копия Мамбреян Ваган.pdf\n",
      "\u001b[32mSuccess \u001b[0m- diploms/Rau/Копия Дипломная Работа.pdf\n",
      "\u001b[32mSuccess \u001b[0m- diploms/Rau/Копия Саргсян Э. Diplom.pdf\n",
      "\u001b[32mSuccess \u001b[0m- diploms/Rau/Копия Геворгян Гектор 604.pdf\n",
      "\u001b[32mSuccess \u001b[0m- diploms/Rau/Копия Дипломная работа - Мкртчян М. А..pdf\n",
      "\u001b[32mSuccess \u001b[0m- diploms/Rau/Копия Ктикян Стив.pdf\n",
      "\u001b[32mSuccess \u001b[0m- diploms/Rau/Эдгар-Зорунцdocx.pdf\n",
      "\u001b[32mSuccess \u001b[0m- diploms/Rau/Копия Гюласарян Андраник Эдуардович.pdf\n",
      "\u001b[32mSuccess \u001b[0m- diploms/Rau/Копия Ешилбашян Ева Диплом(4)-signed.pdf\n",
      "\u001b[32mSuccess \u001b[0m- diploms/Rau/Копия Гаспарян Алекс.pdf\n",
      "\u001b[32mSuccess \u001b[0m- diploms/Rau/Копия Арутунян Астхик.pdf\n",
      "\u001b[32mSuccess \u001b[0m- diploms/Rau/Копия АсратянАлександр.pdf\n",
      "\u001b[32mSuccess \u001b[0m- diploms/Rau/Копия Mark-Chibukhchian-2.pdf\n",
      "\u001b[32mSuccess \u001b[0m- diploms/Rau/Копия Ivan_Gyulumyan_604_Diplomnaya_rabota.pdf\n",
      "\u001b[32mSuccess \u001b[0m- diploms/Rau/Копия Казарян Эвелина.pdf\n",
      "\u001b[32mSuccess \u001b[0m- diploms/Rau/Копия Аветисян-Арман-1.pdf\n",
      "\u001b[32mSuccess \u001b[0m- diploms/Rau/Копия Нир - Mariam Shekoyan.pdf\n",
      "\u001b[32mSuccess \u001b[0m- diploms/Rau/Копия Манукян Кристина.pdf\n",
      "\u001b[32mSuccess \u001b[0m- diploms/MFTI/2017MS_Bubis.pdf\n",
      "\u001b[32mSuccess \u001b[0m- diploms/MFTI/2015BS_Gagkaeva.pdf\n",
      "\u001b[32mSuccess \u001b[0m- diploms/MFTI/2016MS_Khudyakova.pdf\n",
      "\u001b[32mSuccess \u001b[0m- diploms/MFTI/2016MS_Belyanchikov.pdf\n",
      "\u001b[32mSuccess \u001b[0m- diploms/MFTI/2016BS_Kulesh.pdf\n",
      "\u001b[32mSuccess \u001b[0m- diploms/MFTI/2016BS_Noyan.pdf\n",
      "\u001b[32mSuccess \u001b[0m- diploms/MFTI/2016MS_Bolotskaya.pdf\n",
      "\u001b[32mSuccess \u001b[0m- diploms/MFTI/2017MS_Gagkaeva.pdf\n",
      "\u001b[32mSuccess \u001b[0m- diploms/MFTI/2016MS_Glushkov.pdf\n",
      "\u001b[32mSuccess \u001b[0m- diploms/MFTI/2016BS_Galiullin.pdf\n",
      "\u001b[32mSuccess \u001b[0m- diploms/MFTI/2016BS_Kanin.pdf\n",
      "\u001b[32mSuccess \u001b[0m- diploms/MFTI/2017BS_Grebenchuk.pdf\n",
      "\u001b[32mSuccess \u001b[0m- diploms/MFTI/2017BS_Kulesh.pdf\n",
      "\u001b[32mSuccess \u001b[0m- diploms/MFTI/2016BS_Gukov.pdf\n",
      "\u001b[32mSuccess \u001b[0m- diploms/MFTI/2017BS_Kadyrmetov.pdf\n",
      "\u001b[32mSuccess \u001b[0m- diploms/MFTI/2016MS_Shuravin.pdf\n",
      "\u001b[32mSuccess \u001b[0m- diploms/ruden/dordzhi-goryaeva_a__c.pdf\n",
      "\u001b[32mSuccess \u001b[0m- diploms/ruden/kramarenko_v_o.pdf\n",
      "\u001b[32mSuccess \u001b[0m- diploms/ruden/lashina_m_v.pdf\n",
      "\u001b[32mSuccess \u001b[0m- diploms/ruden/levicheva_t_k.pdf\n",
      "\u001b[32mSuccess \u001b[0m- diploms/ruden/bodnar_v.pdf\n",
      "\u001b[32mSuccess \u001b[0m- diploms/ruden/gorbacheva_a_i.pdf\n"
     ]
    }
   ],
   "source": [
    "# list all files\n",
    "path = \"diploms\"\n",
    "files = []\n",
    "for folder in listdir(path):\n",
    "    files += [join(path, folder, file) for file in listdir(join(path, folder)) if isfile(join(path, folder, file))]\n",
    "\n",
    "data = pd.DataFrame(columns = [\"filename\", \"text\"])\n",
    "\n",
    "for filename in files:\n",
    "    try:\n",
    "        text = get_text_from_main_page_pdftotext(filename)\n",
    "        data = data.append(pd.Series(\n",
    "            [filename, text], index = data.columns\n",
    "        ), ignore_index = True)\n",
    "        print(f'\\x1B[32mSuccess \\x1B[0m- {filename}')\n",
    "    except Exception as e:\n",
    "        print(f'\\x1B[31mFailed \\x1B[0m- {filename}\\x1B[31m', e)"
   ]
  },
  {
   "cell_type": "code",
   "execution_count": 6,
   "metadata": {
    "id": "bDSgyA4ezo7E"
   },
   "outputs": [],
   "source": [
    "# delete empty documents\n",
    "data = data[data[\"text\"] != \"\"]\n",
    "data[\"filename\"] = data[\"filename\"].str.removeprefix(\"diploms/\")\n",
    "\n",
    "# save to csv\n",
    "data.to_csv(\"diplomas_pdftotext.csv\", index = False)"
   ]
  },
  {
   "cell_type": "markdown",
   "metadata": {
    "id": "MqmeMN7Tzo7E"
   },
   "source": [
    "the dataset is ready at `diplomas_pdftotext.csv`"
   ]
  },
  {
   "cell_type": "markdown",
   "metadata": {
    "id": "vpOnIJeOzo7F"
   },
   "source": [
    "### REGEX"
   ]
  },
  {
   "cell_type": "code",
   "execution_count": 7,
   "metadata": {
    "id": "xAgtgimNzo7G"
   },
   "outputs": [],
   "source": [
    "# pandas\n",
    "import pandas as pd\n",
    "\n",
    "# regex\n",
    "import re\n",
    "\n",
    "# errors\n",
    "import traceback"
   ]
  },
  {
   "cell_type": "code",
   "execution_count": 8,
   "metadata": {
    "colab": {
     "base_uri": "https://localhost:8080/"
    },
    "id": "LB2Gp55Zzo7G",
    "outputId": "ba00c694-c95a-415e-c5ea-cd543a04f33e"
   },
   "outputs": [
    {
     "data": {
      "text/html": [
       "<div>\n",
       "<style scoped>\n",
       "    .dataframe tbody tr th:only-of-type {\n",
       "        vertical-align: middle;\n",
       "    }\n",
       "\n",
       "    .dataframe tbody tr th {\n",
       "        vertical-align: top;\n",
       "    }\n",
       "\n",
       "    .dataframe thead th {\n",
       "        text-align: right;\n",
       "    }\n",
       "</style>\n",
       "<table border=\"1\" class=\"dataframe\">\n",
       "  <thead>\n",
       "    <tr style=\"text-align: right;\">\n",
       "      <th></th>\n",
       "      <th>filename</th>\n",
       "      <th>text</th>\n",
       "    </tr>\n",
       "  </thead>\n",
       "  <tbody>\n",
       "    <tr>\n",
       "      <th>0</th>\n",
       "      <td>msu/2019_Ginzburg.pdf</td>\n",
       "      <td>ФЕДЕРАЛЬНОЕ ГОСУДАРСТВЕННОЕ БЮД...</td>\n",
       "    </tr>\n",
       "    <tr>\n",
       "      <th>1</th>\n",
       "      <td>msu/ameridi_a_d.pdf</td>\n",
       "      <td>МОСКОВСКИЙ ГОСУДАРСТВЕННЫЙ УНИВЕРС...</td>\n",
       "    </tr>\n",
       "    <tr>\n",
       "      <th>2</th>\n",
       "      <td>msu/aristov_g_d.pdf</td>\n",
       "      <td>МОСКОВСКИЙ ГОСУДАРСТВЕННЫЙ УНИВЕРСИТЕТ...</td>\n",
       "    </tr>\n",
       "    <tr>\n",
       "      <th>3</th>\n",
       "      <td>msu/bagratuni_d_g.pdf</td>\n",
       "      <td>МОСКОВСКИЙ ГОСУДАРСТВЕННЫЙ УНИВЕРСИТЕТ...</td>\n",
       "    </tr>\n",
       "    <tr>\n",
       "      <th>4</th>\n",
       "      <td>msu/îá¼áÑóÅé_»αÑñºáΘ¿Γá_ñ¿»½«¼á.pdf</td>\n",
       "      <td>Московский государственный университет имени М...</td>\n",
       "    </tr>\n",
       "  </tbody>\n",
       "</table>\n",
       "</div>"
      ],
      "text/plain": [
       "                              filename  \\\n",
       "0                msu/2019_Ginzburg.pdf   \n",
       "1                  msu/ameridi_a_d.pdf   \n",
       "2                  msu/aristov_g_d.pdf   \n",
       "3                msu/bagratuni_d_g.pdf   \n",
       "4  msu/îá¼áÑóÅé_»αÑñºáΘ¿Γá_ñ¿»½«¼á.pdf   \n",
       "\n",
       "                                                text  \n",
       "0                 ФЕДЕРАЛЬНОЕ ГОСУДАРСТВЕННОЕ БЮД...  \n",
       "1              МОСКОВСКИЙ ГОСУДАРСТВЕННЫЙ УНИВЕРС...  \n",
       "2          МОСКОВСКИЙ ГОСУДАРСТВЕННЫЙ УНИВЕРСИТЕТ...  \n",
       "3          МОСКОВСКИЙ ГОСУДАРСТВЕННЫЙ УНИВЕРСИТЕТ...  \n",
       "4  Московский государственный университет имени М...  "
      ]
     },
     "execution_count": 8,
     "metadata": {},
     "output_type": "execute_result"
    }
   ],
   "source": [
    "df = pd.read_csv(\"diplomas_pdftotext.csv\")\n",
    "df.head()"
   ]
  },
  {
   "cell_type": "code",
   "execution_count": 9,
   "metadata": {
    "id": "tup3_IJZzo7H"
   },
   "outputs": [],
   "source": [
    "def modify_title_page(title_page : str) -> str:\n",
    "    tokenized = [re.split(r'\\s', line) for line in re.split(r'\\n', title_page)]\n",
    "    tokenized = [[token for token in line if token] for line in tokenized]\n",
    "    modified = [' '.join(token for token in line if token) for line in tokenized]\n",
    "    i = 0\n",
    "    while i < len(modified):\n",
    "        if i-1>0 and modified[i] and re.findall(r'[^\\W\\d_]', modified[i][0]) and modified[i][0].lower() == modified[i][0]:\n",
    "            new_line = modified[i-1] + ' ' + modified[i]\n",
    "            modified.pop(i)\n",
    "            modified.pop(i-1)\n",
    "            modified.insert(i-1, new_line)\n",
    "            i =- 1\n",
    "        i += 1\n",
    "            \n",
    "    modified = '\\n'.join(line for line in modified)\n",
    "    return modified"
   ]
  },
  {
   "cell_type": "code",
   "execution_count": 10,
   "metadata": {
    "id": "sKnbcXe6zo7I"
   },
   "outputs": [],
   "source": [
    "def get_year(title_page : str) -> str:\n",
    "    year = re.findall(r'(2[0-9]{3})', title_page)\n",
    "    return year[-1] if year else None\n",
    "\n",
    "def get_university(title_page : str) -> str:\n",
    "    if re.search(r\"(?i)Российско ?- ?армянский\", title_page):\n",
    "        return 'rau'\n",
    "    elif re.search(r\"(?i)московский физико[\\s\\n]?-[\\s\\n\\t]*технический институт\", title_page):\n",
    "        return 'mipt'\n",
    "    elif re.search(r\"(?i)Высшая школа экономики\", title_page):\n",
    "        return 'hse'\n",
    "    elif re.search(r\"(?i)дружбы народов\", title_page):\n",
    "        return 'rudn'\n",
    "    elif re.search(r\"(?i)московский государственный\", title_page):\n",
    "        return 'msu'\n",
    "    university = re.findall('(?i)(?<=).+университет|$', title_page)[0]\n",
    "    return university.lower() if university else None   \n",
    "\n",
    "def get_faculty(title_page : str, university : str) -> str:\n",
    "    if university == 'rau':\n",
    "        faculty = re.findall(r\"(?i)Институт.*\", title_page)\n",
    "    elif university == 'mipt' or university == 'hse':\n",
    "        faculty = re.findall(r\"(?i)Факультет.*\", title_page)\n",
    "    elif university == 'rudn':\n",
    "        faculty = re.findall(r\"(?i)учебный институт: (.*)\", title_page)\n",
    "        if not faculty:\n",
    "            faculty = re.findall(r\"(?i)\\s+(.*)\\sинститут\", title_page)\n",
    "    elif university == 'msu':\n",
    "        faculty = re.findall(r\"(?i)\\s*(.*Факультет.*)\", title_page)\n",
    "    else:\n",
    "        faculty = re.findall(r\"(?i)Факультет.*\", title_page)\n",
    "    faculty = faculty[0].lower() if faculty else None\n",
    "    return faculty\n",
    "\n",
    "def get_department(title_page : str) -> str:\n",
    "    department = re.findall(r\"(?i)Кафедра.*\", title_page)\n",
    "    department = department[0].lower() if department else None\n",
    "    return department\n",
    "\n",
    "def get_speciality(title_page : str) -> str:\n",
    "    speciality = re.findall(r\"(?i)Специальность:\\s*(.*)|Направление:\\s*(.*)|([0-9]{2}\\.[0-9]{2}\\.[0-9]{2}.*)\", title_page)\n",
    "    return ''.join(speciality[0]).lower() if speciality else None\n",
    "\n",
    "def get_name(line : str) -> str:\n",
    "    name = re.search(r\"([А-Я](?:[а-я]+|\\.) ?(?:[А-Я](?:[а-я]+|\\.))? ?[А-Я][а-я]+)|([А-Я][а-я]+ [А-Я](?:[а-я]+|\\.)? ?(?:[А-Я](?:[а-я]+|\\.)))\", line)\n",
    "    return name[0] if name else None\n",
    "\n",
    "def get_author(title_page : str) -> str:\n",
    "    title_page = re.sub('\\n', ' ', title_page)\n",
    "    author = re.findall(r'(?i)(?:студент|исполнитель|выполнил).*?(?-i:([А-Я](?:[а-я]+|\\.) ?(?:[А-Я](?:[а-я]+|\\.))? ?[А-Я][а-я]+)|([А-Я][а-я]+ [А-Я](?:[а-я]+|\\.)? ?(?:[А-Я](?:[а-я]+|\\.))))', title_page)\n",
    "    if not author:\n",
    "        return get_name(title_page)\n",
    "    if author[0] and author[0][0]:\n",
    "        return author[0][0]\n",
    "    elif author[0] and author[0][1]:\n",
    "        return author[0][1]\n",
    "    return None\n",
    "\n",
    "def get_supervisor(title_page : str) -> str:\n",
    "    title_page = re.sub('\\n', ' ', title_page)\n",
    "    supervisor = re.findall(r'(?i)(?:руководитель).*?(?-i:([А-Я](?:[а-я]+|\\.) ?(?:[А-Я](?:[а-я]+|\\.))? ?[А-Я][а-я]+)|([А-Я][а-я]+ [А-Я](?:[а-я]+|\\.)? ?(?:[А-Я](?:[а-я]+|\\.))))', title_page)\n",
    "    if not supervisor:\n",
    "        return None\n",
    "    if supervisor[0] and supervisor[0][0]:\n",
    "        return supervisor[0][0]\n",
    "    elif supervisor[0] and supervisor[0][1]:\n",
    "        return supervisor[0][1]\n",
    "    return None\n",
    "\n",
    "def get_title(title_page : str) -> str:\n",
    "    title = re.findall(r'(?i)тема:\\s(.*)', title_page)\n",
    "    return title[0] if title else None"
   ]
  },
  {
   "cell_type": "code",
   "execution_count": 11,
   "metadata": {
    "id": "8tqcbtWfzo7J"
   },
   "outputs": [],
   "source": [
    "def get_metadata(title_page : str) -> dict:\n",
    "    title_page = modify_title_page(title_page)\n",
    "    year = get_year(title_page)\n",
    "    university = get_university(title_page)\n",
    "    faculty = get_faculty(title_page, university)\n",
    "    department = get_department(title_page)\n",
    "    speciality = get_speciality(title_page)\n",
    "    author = get_author(title_page)\n",
    "    supervisor = get_supervisor(title_page)\n",
    "    title = get_title(title_page)\n",
    "    \n",
    "    return {\n",
    "        'year' : year,\n",
    "        'university' : university,\n",
    "        'faculty' : faculty,\n",
    "        'department' : department,\n",
    "        'speciality' : speciality,\n",
    "        'author' : author,\n",
    "        'supervisor' : supervisor,\n",
    "        'title' : title\n",
    "    }"
   ]
  },
  {
   "cell_type": "code",
   "execution_count": 12,
   "metadata": {
    "colab": {
     "base_uri": "https://localhost:8080/"
    },
    "id": "LpQ9BJXQzo7J",
    "outputId": "68f4ea1c-b5b1-46f8-c9a4-a3052b0ab92a"
   },
   "outputs": [
    {
     "data": {
      "text/html": [
       "<div>\n",
       "<style scoped>\n",
       "    .dataframe tbody tr th:only-of-type {\n",
       "        vertical-align: middle;\n",
       "    }\n",
       "\n",
       "    .dataframe tbody tr th {\n",
       "        vertical-align: top;\n",
       "    }\n",
       "\n",
       "    .dataframe thead th {\n",
       "        text-align: right;\n",
       "    }\n",
       "</style>\n",
       "<table border=\"1\" class=\"dataframe\">\n",
       "  <thead>\n",
       "    <tr style=\"text-align: right;\">\n",
       "      <th></th>\n",
       "      <th>filename</th>\n",
       "      <th>year</th>\n",
       "      <th>university</th>\n",
       "      <th>faculty</th>\n",
       "      <th>department</th>\n",
       "      <th>speciality</th>\n",
       "      <th>author</th>\n",
       "      <th>supervisor</th>\n",
       "      <th>title</th>\n",
       "    </tr>\n",
       "  </thead>\n",
       "  <tbody>\n",
       "    <tr>\n",
       "      <th>0</th>\n",
       "      <td>msu/2019_Ginzburg.pdf</td>\n",
       "      <td>2019</td>\n",
       "      <td>msu</td>\n",
       "      <td>физический факультет</td>\n",
       "      <td>кафедра общей физики</td>\n",
       "      <td>None</td>\n",
       "      <td>Гинзбург Борис Александрович</td>\n",
       "      <td>Поляков П.А.</td>\n",
       "      <td>None</td>\n",
       "    </tr>\n",
       "    <tr>\n",
       "      <th>1</th>\n",
       "      <td>msu/ameridi_a_d.pdf</td>\n",
       "      <td>2019</td>\n",
       "      <td>msu</td>\n",
       "      <td>юридический факультет</td>\n",
       "      <td>кафедра истории государства и права</td>\n",
       "      <td>None</td>\n",
       "      <td>Америди Афина Дмитриевна</td>\n",
       "      <td>Томсинов Владимир Алексеевич</td>\n",
       "      <td>None</td>\n",
       "    </tr>\n",
       "    <tr>\n",
       "      <th>2</th>\n",
       "      <td>msu/aristov_g_d.pdf</td>\n",
       "      <td>2020</td>\n",
       "      <td>msu</td>\n",
       "      <td>юридический факультет</td>\n",
       "      <td>None</td>\n",
       "      <td>None</td>\n",
       "      <td>Аристов Георгий Дмитриевич</td>\n",
       "      <td>Щербак Наталия Валериевна</td>\n",
       "      <td>None</td>\n",
       "    </tr>\n",
       "    <tr>\n",
       "      <th>3</th>\n",
       "      <td>msu/bagratuni_d_g.pdf</td>\n",
       "      <td>2019</td>\n",
       "      <td>msu</td>\n",
       "      <td>юридический факультет</td>\n",
       "      <td>None</td>\n",
       "      <td>None</td>\n",
       "      <td>М.В.Ломоносова</td>\n",
       "      <td>Бандорин Леонид Евгеньевич</td>\n",
       "      <td>None</td>\n",
       "    </tr>\n",
       "    <tr>\n",
       "      <th>4</th>\n",
       "      <td>msu/îá¼áÑóÅé_»αÑñºáΘ¿Γá_ñ¿»½«¼á.pdf</td>\n",
       "      <td>2021</td>\n",
       "      <td>msu</td>\n",
       "      <td>факультет вычислительной математики и кибернетики</td>\n",
       "      <td>кафедра системного программирования</td>\n",
       "      <td>None</td>\n",
       "      <td>М.В.Ломоносова</td>\n",
       "      <td>Корухова Людмила Сергеевна</td>\n",
       "      <td>None</td>\n",
       "    </tr>\n",
       "  </tbody>\n",
       "</table>\n",
       "</div>"
      ],
      "text/plain": [
       "                              filename  year university  \\\n",
       "0                msu/2019_Ginzburg.pdf  2019        msu   \n",
       "1                  msu/ameridi_a_d.pdf  2019        msu   \n",
       "2                  msu/aristov_g_d.pdf  2020        msu   \n",
       "3                msu/bagratuni_d_g.pdf  2019        msu   \n",
       "4  msu/îá¼áÑóÅé_»αÑñºáΘ¿Γá_ñ¿»½«¼á.pdf  2021        msu   \n",
       "\n",
       "                                             faculty  \\\n",
       "0                               физический факультет   \n",
       "1                              юридический факультет   \n",
       "2                              юридический факультет   \n",
       "3                              юридический факультет   \n",
       "4  факультет вычислительной математики и кибернетики   \n",
       "\n",
       "                            department speciality  \\\n",
       "0                 кафедра общей физики       None   \n",
       "1  кафедра истории государства и права       None   \n",
       "2                                 None       None   \n",
       "3                                 None       None   \n",
       "4  кафедра системного программирования       None   \n",
       "\n",
       "                         author                    supervisor title  \n",
       "0  Гинзбург Борис Александрович                  Поляков П.А.  None  \n",
       "1      Америди Афина Дмитриевна  Томсинов Владимир Алексеевич  None  \n",
       "2    Аристов Георгий Дмитриевич     Щербак Наталия Валериевна  None  \n",
       "3                М.В.Ломоносова    Бандорин Леонид Евгеньевич  None  \n",
       "4                М.В.Ломоносова    Корухова Людмила Сергеевна  None  "
      ]
     },
     "execution_count": 12,
     "metadata": {},
     "output_type": "execute_result"
    }
   ],
   "source": [
    "df_regex = pd.DataFrame(columns=['filename', 'year', 'university', 'faculty', 'department',\n",
    "       'speciality', 'author', 'supervisor', 'title'])\n",
    "\n",
    "for j in range(df.shape[0]):\n",
    "    metadata = get_metadata(df.iloc[j].text)\n",
    "    metadata.update({'filename': df.iloc[j].filename})\n",
    "    df_regex = df_regex.append(metadata, ignore_index=True)\n",
    "df_regex.head()"
   ]
  },
  {
   "cell_type": "code",
   "execution_count": 13,
   "metadata": {
    "id": "VXgj6qXMzo7K"
   },
   "outputs": [],
   "source": [
    "df_regex.to_csv(\"diplomas_extracted_regex.csv\", index = False)"
   ]
  },
  {
   "cell_type": "markdown",
   "metadata": {
    "id": "BUEm7J9ozo7N"
   },
   "source": [
    "### NER for getting names"
   ]
  },
  {
   "cell_type": "code",
   "execution_count": 14,
   "metadata": {
    "colab": {
     "base_uri": "https://localhost:8080/",
     "referenced_widgets": [
      "eb52f4392ac447fc8ec66926f6d279cd",
      "affcde3d377340ee9e7202b5a5fb1c7e",
      "b73cec7fa5d84df9ac19df1db927b783",
      "6e2ca4978fd14bf0b4bb9ae291685e29",
      "68cbf71fc3914731ac474acdeb7337d6",
      "d3b365e6ee884c3b83b4d46b86a668fc",
      "ee7e9674809d437db4bdef7861f67175",
      "ffa0025d6ceb4107a020c59bd3a47fad",
      "91a4b7c0fd074be68858f70803c67d2f",
      "9038980f14184dfe90c68fd864f8b37f",
      "9d2d0fed62c6468baa5298f7df5c88ef",
      "17cabe182e5b46d08e562f87fc62fd37",
      "46c12e9cd41340eb871e10f529b4c08e",
      "d0d65b4945fb4e24aeee20c1dd5aac79",
      "b80d6a48bc904db2a2f8e1058e9951f7",
      "79c3a7f5bda44a8d92efdd1f654a941f",
      "19033f6100544027a85e0ebbb64bcd73",
      "94c493611ca145d5a5c0ba7f367a19c7",
      "471a06eac1214bb0b7b112fbeeda484a",
      "99073adf24044153ab679ea4d6f703da",
      "2bcec3a1b68d420898f194f30753f9cf",
      "adb7b76ff76945ad83020b32a9473bf8"
     ]
    },
    "id": "cdd97OF5zo7N",
    "outputId": "0ef2550f-1430-4f53-fa24-2665e66a3de0"
   },
   "outputs": [
    {
     "name": "stderr",
     "output_type": "stream",
     "text": [
      "2022-02-15 14:06:20 INFO: Loading these models for language: ru (Russian):\n",
      "=========================\n",
      "| Processor | Package   |\n",
      "-------------------------\n",
      "| tokenize  | syntagrus |\n",
      "| ner       | wikiner   |\n",
      "=========================\n",
      "\n",
      "2022-02-15 14:06:20 INFO: Use device: cpu\n",
      "2022-02-15 14:06:20 INFO: Loading: tokenize\n",
      "2022-02-15 14:06:20 INFO: Loading: ner\n",
      "2022-02-15 14:06:21 INFO: Done loading processors!\n"
     ]
    }
   ],
   "source": [
    "import stanza\n",
    "# stanza.download('ru') \n",
    "\n",
    "import numpy as np\n",
    "\n",
    "df = pd.read_csv(\"diplomas_pdftotext.csv\")\n",
    "\n",
    "nlp = stanza.Pipeline('ru', processors='tokenize,ner') "
   ]
  },
  {
   "cell_type": "code",
   "execution_count": 15,
   "metadata": {
    "colab": {
     "base_uri": "https://localhost:8080/"
    },
    "id": "h0YYcw-Zzo7O",
    "outputId": "b34d6f4e-2b58-499f-f019-5a8f7ec7e300"
   },
   "outputs": [
    {
     "name": "stdout",
     "output_type": "stream",
     "text": [
      "CPU times: user 7min 52s, sys: 2.6 s, total: 7min 54s\n",
      "Wall time: 2min 41s\n"
     ]
    }
   ],
   "source": [
    "%%time\n",
    "stanzed = {}\n",
    "for j in range(df.shape[0]):\n",
    "    stanzed.update({df.iloc[j].filename : nlp(df.iloc[j].text)})"
   ]
  },
  {
   "cell_type": "code",
   "execution_count": 16,
   "metadata": {
    "id": "g3HqTWgUzo7Q"
   },
   "outputs": [],
   "source": [
    "persons = {}\n",
    "for filename in stanzed:\n",
    "    persons_doc = []\n",
    "    doc = stanzed[filename]\n",
    "    for sent in doc.sentences:\n",
    "        for ent in sent.ents:\n",
    "            if ent.type == \"PER\":\n",
    "                 persons_doc.append(ent.text)\n",
    "    persons.update({filename : persons_doc})"
   ]
  },
  {
   "cell_type": "code",
   "execution_count": 17,
   "metadata": {
    "colab": {
     "base_uri": "https://localhost:8080/"
    },
    "id": "8snK_prvzo7Q",
    "outputId": "436cb8df-e87e-42c8-b8a0-21273c1d91cd"
   },
   "outputs": [
    {
     "data": {
      "text/html": [
       "<div>\n",
       "<style scoped>\n",
       "    .dataframe tbody tr th:only-of-type {\n",
       "        vertical-align: middle;\n",
       "    }\n",
       "\n",
       "    .dataframe tbody tr th {\n",
       "        vertical-align: top;\n",
       "    }\n",
       "\n",
       "    .dataframe thead th {\n",
       "        text-align: right;\n",
       "    }\n",
       "</style>\n",
       "<table border=\"1\" class=\"dataframe\">\n",
       "  <thead>\n",
       "    <tr style=\"text-align: right;\">\n",
       "      <th></th>\n",
       "      <th>filename</th>\n",
       "      <th>author</th>\n",
       "      <th>supervisor</th>\n",
       "    </tr>\n",
       "  </thead>\n",
       "  <tbody>\n",
       "    <tr>\n",
       "      <th>0</th>\n",
       "      <td>msu/2019_Ginzburg.pdf</td>\n",
       "      <td>Гинзбург Борис Александрович</td>\n",
       "      <td>Поляков П.А.</td>\n",
       "    </tr>\n",
       "    <tr>\n",
       "      <th>1</th>\n",
       "      <td>msu/ameridi_a_d.pdf</td>\n",
       "      <td>Америди Афина Дмитриевна</td>\n",
       "      <td>Томсинов Владимир Алексеевич</td>\n",
       "    </tr>\n",
       "    <tr>\n",
       "      <th>2</th>\n",
       "      <td>msu/aristov_g_d.pdf</td>\n",
       "      <td></td>\n",
       "      <td>Щербак Наталия Валериевна</td>\n",
       "    </tr>\n",
       "    <tr>\n",
       "      <th>3</th>\n",
       "      <td>msu/bagratuni_d_g.pdf</td>\n",
       "      <td></td>\n",
       "      <td>Бандорин Леонид Евгеньевич</td>\n",
       "    </tr>\n",
       "    <tr>\n",
       "      <th>4</th>\n",
       "      <td>msu/îá¼áÑóÅé_»αÑñºáΘ¿Γá_ñ¿»½«¼á.pdf</td>\n",
       "      <td></td>\n",
       "      <td>Корухова Людмила Сергеевна</td>\n",
       "    </tr>\n",
       "    <tr>\n",
       "      <th>...</th>\n",
       "      <td>...</td>\n",
       "      <td>...</td>\n",
       "      <td>...</td>\n",
       "    </tr>\n",
       "    <tr>\n",
       "      <th>100</th>\n",
       "      <td>ruden/kramarenko_v_o.pdf</td>\n",
       "      <td>Крамаренко В.О.</td>\n",
       "      <td>Ивановская Н.В.</td>\n",
       "    </tr>\n",
       "    <tr>\n",
       "      <th>101</th>\n",
       "      <td>ruden/lashina_m_v.pdf</td>\n",
       "      <td></td>\n",
       "      <td>А.Н. Кирсанов</td>\n",
       "    </tr>\n",
       "    <tr>\n",
       "      <th>102</th>\n",
       "      <td>ruden/levicheva_t_k.pdf</td>\n",
       "      <td></td>\n",
       "      <td>Беликова К.М.</td>\n",
       "    </tr>\n",
       "    <tr>\n",
       "      <th>103</th>\n",
       "      <td>ruden/bodnar_v.pdf</td>\n",
       "      <td>Боднарь Валерия</td>\n",
       "      <td>Ситкарева Е.В.</td>\n",
       "    </tr>\n",
       "    <tr>\n",
       "      <th>104</th>\n",
       "      <td>ruden/gorbacheva_a_i.pdf</td>\n",
       "      <td>Горбачева Анна Игоревна</td>\n",
       "      <td>Русакова Екатерина Петровна</td>\n",
       "    </tr>\n",
       "  </tbody>\n",
       "</table>\n",
       "<p>105 rows × 3 columns</p>\n",
       "</div>"
      ],
      "text/plain": [
       "                                filename                        author  \\\n",
       "0                  msu/2019_Ginzburg.pdf  Гинзбург Борис Александрович   \n",
       "1                    msu/ameridi_a_d.pdf      Америди Афина Дмитриевна   \n",
       "2                    msu/aristov_g_d.pdf                                 \n",
       "3                  msu/bagratuni_d_g.pdf                                 \n",
       "4    msu/îá¼áÑóÅé_»αÑñºáΘ¿Γá_ñ¿»½«¼á.pdf                                 \n",
       "..                                   ...                           ...   \n",
       "100             ruden/kramarenko_v_o.pdf               Крамаренко В.О.   \n",
       "101                ruden/lashina_m_v.pdf                                 \n",
       "102              ruden/levicheva_t_k.pdf                                 \n",
       "103                   ruden/bodnar_v.pdf               Боднарь Валерия   \n",
       "104             ruden/gorbacheva_a_i.pdf       Горбачева Анна Игоревна   \n",
       "\n",
       "                       supervisor  \n",
       "0                    Поляков П.А.  \n",
       "1    Томсинов Владимир Алексеевич  \n",
       "2       Щербак Наталия Валериевна  \n",
       "3      Бандорин Леонид Евгеньевич  \n",
       "4      Корухова Людмила Сергеевна  \n",
       "..                            ...  \n",
       "100               Ивановская Н.В.  \n",
       "101                 А.Н. Кирсанов  \n",
       "102                 Беликова К.М.  \n",
       "103                Ситкарева Е.В.  \n",
       "104   Русакова Екатерина Петровна  \n",
       "\n",
       "[105 rows x 3 columns]"
      ]
     },
     "execution_count": 17,
     "metadata": {},
     "output_type": "execute_result"
    }
   ],
   "source": [
    "df_ner = pd.DataFrame(columns=['filename', 'author', 'supervisor'])\n",
    "\n",
    "for i in range(df.shape[0]):\n",
    "    text = df.iloc[i].text\n",
    "    filename = df.iloc[i].filename\n",
    "    author, supervisor = \"\", \"\"\n",
    "    for person in persons[filename]:\n",
    "        person = get_name(person)\n",
    "        if not person:\n",
    "            continue\n",
    "        p_id = text.index(person)\n",
    "        if not author and re.findall(\"(?i)студент|выполнил|исполнитель\", text[p_id-250:p_id]):\n",
    "            author = person\n",
    "        elif not supervisor and re.findall(\"(?i)руководитель\", text[p_id-250:p_id]):\n",
    "            supervisor = person\n",
    "            \n",
    "    dic = {'filename' : filename, 'author' : author, 'supervisor' : supervisor}\n",
    "    \n",
    "    df_ner = df_ner.append(dic, ignore_index=True)\n",
    "df_ner"
   ]
  },
  {
   "cell_type": "code",
   "execution_count": 18,
   "metadata": {
    "id": "2MFspC9lzo7R"
   },
   "outputs": [],
   "source": [
    "df_ner.to_csv(\"diplomas_extracted_ner.csv\", index = False)"
   ]
  },
  {
   "cell_type": "markdown",
   "metadata": {
    "id": "daQpkbCvzo7R"
   },
   "source": [
    "## Extracting title with nn\n"
   ]
  },
  {
   "cell_type": "markdown",
   "metadata": {
    "id": "5vFOCDT7zo7R"
   },
   "source": [
    "### Preparing data"
   ]
  },
  {
   "cell_type": "code",
   "execution_count": 19,
   "metadata": {
    "colab": {
     "base_uri": "https://localhost:8080/",
     "height": 380
    },
    "id": "nrlQdVB1zo7R",
    "outputId": "445a6ab0-9b3e-4df1-82d7-88026a76fc97"
   },
   "outputs": [],
   "source": [
    "df = pd.read_csv(\"diplomas_pdftotext.csv\")\n",
    "df_answers = pd.read_csv(\"diplomas_extracted_answers.csv\")\n",
    "df[\"filename\"] = df[\"filename\"].str.removeprefix(\"diploms/\")\n",
    "df_answers[\"filename\"] = df_answers[\"filename\"].str.removeprefix(\"diploms/\")"
   ]
  },
  {
   "cell_type": "code",
   "execution_count": 20,
   "metadata": {
    "colab": {
     "base_uri": "https://localhost:8080/",
     "height": 423
    },
    "id": "t2d4y45_zo7R",
    "outputId": "e012eadd-aa49-455e-8ba2-719af19e9791"
   },
   "outputs": [
    {
     "data": {
      "text/html": [
       "<div>\n",
       "<style scoped>\n",
       "    .dataframe tbody tr th:only-of-type {\n",
       "        vertical-align: middle;\n",
       "    }\n",
       "\n",
       "    .dataframe tbody tr th {\n",
       "        vertical-align: top;\n",
       "    }\n",
       "\n",
       "    .dataframe thead th {\n",
       "        text-align: right;\n",
       "    }\n",
       "</style>\n",
       "<table border=\"1\" class=\"dataframe\">\n",
       "  <thead>\n",
       "    <tr style=\"text-align: right;\">\n",
       "      <th></th>\n",
       "      <th>filename</th>\n",
       "      <th>text</th>\n",
       "      <th>title</th>\n",
       "    </tr>\n",
       "  </thead>\n",
       "  <tbody>\n",
       "    <tr>\n",
       "      <th>0</th>\n",
       "      <td>msu/2019_Ginzburg.pdf</td>\n",
       "      <td>ФЕДЕРАЛЬНОЕ ГОСУДАРСТВЕННОЕ БЮД...</td>\n",
       "      <td>«ОСОБЕННОСТИ МИКРОМАГНИТНОЙ СТРУКТУРЫ ПОСТОЯНН...</td>\n",
       "    </tr>\n",
       "    <tr>\n",
       "      <th>1</th>\n",
       "      <td>msu/ameridi_a_d.pdf</td>\n",
       "      <td>МОСКОВСКИЙ ГОСУДАРСТВЕННЫЙ УНИВЕРС...</td>\n",
       "      <td>«Историко-сравнительное исследование правовых ...</td>\n",
       "    </tr>\n",
       "    <tr>\n",
       "      <th>2</th>\n",
       "      <td>msu/aristov_g_d.pdf</td>\n",
       "      <td>МОСКОВСКИЙ ГОСУДАРСТВЕННЫЙ УНИВЕРСИТЕТ...</td>\n",
       "      <td>«Оборотоспособность права на получение патента...</td>\n",
       "    </tr>\n",
       "    <tr>\n",
       "      <th>3</th>\n",
       "      <td>msu/bagratuni_d_g.pdf</td>\n",
       "      <td>МОСКОВСКИЙ ГОСУДАРСТВЕННЫЙ УНИВЕРСИТЕТ...</td>\n",
       "      <td>«Правовые аспекты реновации жилищного фонда»</td>\n",
       "    </tr>\n",
       "    <tr>\n",
       "      <th>4</th>\n",
       "      <td>msu/îá¼áÑóÅé_»αÑñºáΘ¿Γá_ñ¿»½«¼á.pdf</td>\n",
       "      <td>Московский государственный университет имени М...</td>\n",
       "      <td>Маркирование выводимых на печать текстовых док...</td>\n",
       "    </tr>\n",
       "  </tbody>\n",
       "</table>\n",
       "</div>"
      ],
      "text/plain": [
       "                              filename  \\\n",
       "0                msu/2019_Ginzburg.pdf   \n",
       "1                  msu/ameridi_a_d.pdf   \n",
       "2                  msu/aristov_g_d.pdf   \n",
       "3                msu/bagratuni_d_g.pdf   \n",
       "4  msu/îá¼áÑóÅé_»αÑñºáΘ¿Γá_ñ¿»½«¼á.pdf   \n",
       "\n",
       "                                                text  \\\n",
       "0                 ФЕДЕРАЛЬНОЕ ГОСУДАРСТВЕННОЕ БЮД...   \n",
       "1              МОСКОВСКИЙ ГОСУДАРСТВЕННЫЙ УНИВЕРС...   \n",
       "2          МОСКОВСКИЙ ГОСУДАРСТВЕННЫЙ УНИВЕРСИТЕТ...   \n",
       "3          МОСКОВСКИЙ ГОСУДАРСТВЕННЫЙ УНИВЕРСИТЕТ...   \n",
       "4  Московский государственный университет имени М...   \n",
       "\n",
       "                                               title  \n",
       "0  «ОСОБЕННОСТИ МИКРОМАГНИТНОЙ СТРУКТУРЫ ПОСТОЯНН...  \n",
       "1  «Историко-сравнительное исследование правовых ...  \n",
       "2  «Оборотоспособность права на получение патента...  \n",
       "3       «Правовые аспекты реновации жилищного фонда»  \n",
       "4  Маркирование выводимых на печать текстовых док...  "
      ]
     },
     "execution_count": 20,
     "metadata": {},
     "output_type": "execute_result"
    }
   ],
   "source": [
    "df_for_nn = pd.merge(df[[\"filename\", \"text\"]], df_answers[[\"filename\", \"title\"]], on=\"filename\")#.drop(\"filename\", axis=1)\n",
    "df_for_nn = df_for_nn.dropna()\n",
    "df_for_nn.head()"
   ]
  },
  {
   "cell_type": "code",
   "execution_count": 21,
   "metadata": {},
   "outputs": [],
   "source": [
    "rau = df_for_nn[df_for_nn['filename'].apply(lambda x: 'Rau' in x)]\n",
    "mipt = df_for_nn[df_for_nn['filename'].apply(lambda x: 'MIPT' in x)]\n",
    "msu = df_for_nn[df_for_nn['filename'].apply(lambda x: 'msu' in x)]\n",
    "ruden = df_for_nn[df_for_nn['filename'].apply(lambda x: 'ruden' in x)]\n",
    "hse = df_for_nn[df_for_nn['filename'].apply(lambda x: 'hse' in x)]"
   ]
  },
  {
   "cell_type": "code",
   "execution_count": 22,
   "metadata": {
    "colab": {
     "base_uri": "https://localhost:8080/",
     "height": 423
    },
    "id": "jSjpW3rkzo7S",
    "outputId": "3f15f6a0-8603-463c-b310-cc01e4183833"
   },
   "outputs": [],
   "source": [
    "def modify_data_for_train(df_nn):\n",
    "    df_nn_new = pd.DataFrame(columns=[\"text\", \"title_begin\", \"title_end\"])\n",
    "    for i in range(df_nn.shape[0]):\n",
    "        text = modify_title_page(df_nn.iloc[i][\"text\"])\n",
    "        title = modify_title_page(df_nn.iloc[i][\"title\"]).lower()\n",
    "        title_begin = \" \".join(text.lower().split(\"\\n\")).index(title)\n",
    "        df_nn_new = df_nn_new.append({\n",
    "            \"text\" : text,\n",
    "            \"title_begin\" : title_begin,\n",
    "            \"title_end\" : title_begin + len(title),\n",
    "        }, ignore_index = True)\n",
    "\n",
    "    return df_nn_new\n",
    "\n",
    "# df_nn = modify_data_for_train(df_for_nn)\n",
    "# df_nn\n",
    "\n",
    "rau = modify_data_for_train(rau)\n",
    "mipt = modify_data_for_train(mipt)\n",
    "msu = modify_data_for_train(msu)\n",
    "ruden = modify_data_for_train(ruden)\n",
    "hse = modify_data_for_train(hse)"
   ]
  },
  {
   "cell_type": "code",
   "execution_count": 23,
   "metadata": {
    "id": "QrDOsm4WiAZK"
   },
   "outputs": [
    {
     "name": "stderr",
     "output_type": "stream",
     "text": [
      "2022-02-15 14:09:05.893105: W tensorflow/stream_executor/platform/default/dso_loader.cc:64] Could not load dynamic library 'libcudart.so.11.0'; dlerror: libcudart.so.11.0: cannot open shared object file: No such file or directory\n",
      "2022-02-15 14:09:05.893132: I tensorflow/stream_executor/cuda/cudart_stub.cc:29] Ignore above cudart dlerror if you do not have a GPU set up on your machine.\n"
     ]
    }
   ],
   "source": [
    "import tensorflow as tf\n",
    "from tensorflow import keras\n",
    "from tensorflow.keras import layers\n",
    "import numpy as np\n",
    "\n",
    "from sklearn.model_selection import train_test_split"
   ]
  },
  {
   "cell_type": "code",
   "execution_count": 24,
   "metadata": {
    "colab": {
     "base_uri": "https://localhost:8080/"
    },
    "id": "BcL0nc2hiAZK",
    "outputId": "5806c11e-0444-4b31-849b-f91bdd827691"
   },
   "outputs": [
    {
     "data": {
      "text/plain": [
       "((62,), (32,), (62, 2), (32, 2))"
      ]
     },
     "execution_count": 24,
     "metadata": {},
     "output_type": "execute_result"
    }
   ],
   "source": [
    "# X = df_nn.iloc[:90][\"text\"].to_numpy()\n",
    "# y = df_nn.iloc[:90][[\"title_begin\", \"title_end\"]].to_numpy()\n",
    "# X_train, X_test, y_train, y_test = train_test_split(X, y, test_size=0.25, random_state=40)\n",
    "\n",
    "X_train = pd.concat([mipt, msu, ruden, hse])[\"text\"].to_numpy()\n",
    "X_test = rau[\"text\"].to_numpy()\n",
    "y_train = pd.concat([mipt, msu, ruden, hse])[[\"title_begin\", \"title_end\"]].to_numpy()\n",
    "y_test = rau[[\"title_begin\", \"title_end\"]].to_numpy()\n",
    "\n",
    "X_train.shape, X_test.shape, y_train.shape, y_test.shape"
   ]
  },
  {
   "cell_type": "code",
   "execution_count": 25,
   "metadata": {
    "id": "euQ8iMWaiAZK"
   },
   "outputs": [],
   "source": [
    "X_train_1 = np.array([[ord(char) for char in line] for line in X_train], dtype=object)\n",
    "X_test_1 = np.array([[ord(char) for char in line] for line in X_test], dtype=object)"
   ]
  },
  {
   "cell_type": "code",
   "execution_count": 26,
   "metadata": {
    "id": "AnvSgN19iAZL"
   },
   "outputs": [],
   "source": [
    "max_length = max(map(len, X_train_1))\n",
    "\n",
    "x_train = keras.preprocessing.sequence.pad_sequences(X_train_1, maxlen=max_length, padding='post')\n",
    "x_test = keras.preprocessing.sequence.pad_sequences(X_test_1, maxlen=max_length, padding='post')\n",
    "\n",
    "x_train = np.array(x_train).astype(np.float32)\n",
    "x_test = np.array(x_test).astype(np.float32) \n",
    "y_train = np.asarray(y_train).astype(np.float32)\n",
    "y_test = np.asarray(y_test).astype(np.float32)"
   ]
  },
  {
   "cell_type": "code",
   "execution_count": 27,
   "metadata": {
    "colab": {
     "base_uri": "https://localhost:8080/"
    },
    "id": "GmDEOpeniAZL",
    "outputId": "960c677b-9723-45e1-b369-f0437a4ff4b0"
   },
   "outputs": [
    {
     "data": {
      "text/plain": [
       "((62, 3517), (32, 3517), (62, 2), (32, 2))"
      ]
     },
     "execution_count": 27,
     "metadata": {},
     "output_type": "execute_result"
    }
   ],
   "source": [
    "x_train.shape, x_test.shape, y_train.shape, y_test.shape"
   ]
  },
  {
   "cell_type": "markdown",
   "metadata": {
    "id": "HP6YH_4EqQsi"
   },
   "source": [
    "#### Conv1D"
   ]
  },
  {
   "cell_type": "code",
   "execution_count": 28,
   "metadata": {
    "colab": {
     "base_uri": "https://localhost:8080/"
    },
    "id": "M5pmd8X6sLKb",
    "outputId": "c0382cbe-4510-4f5b-87f0-84a20f57d0a6"
   },
   "outputs": [
    {
     "data": {
      "text/plain": [
       "((62, 3517, 1), (32, 3517, 1), (62, 2, 1), (32, 2, 1))"
      ]
     },
     "execution_count": 28,
     "metadata": {},
     "output_type": "execute_result"
    }
   ],
   "source": [
    "x_train = np.expand_dims(x_train, axis=2)\n",
    "y_train = np.expand_dims(y_train, axis=2)\n",
    "x_test = np.expand_dims(x_test, axis=2)\n",
    "y_test = np.expand_dims(y_test, axis=2)\n",
    "\n",
    "x_train.shape, x_test.shape, y_train.shape, y_test.shape"
   ]
  },
  {
   "cell_type": "code",
   "execution_count": 47,
   "metadata": {
    "colab": {
     "base_uri": "https://localhost:8080/"
    },
    "id": "YdxpX6lxqTk3",
    "outputId": "bdad0eea-dc56-4e3f-d871-0d658c17183d"
   },
   "outputs": [
    {
     "name": "stdout",
     "output_type": "stream",
     "text": [
      "Model: \"sequential_2\"\n",
      "_________________________________________________________________\n",
      " Layer (type)                Output Shape              Param #   \n",
      "=================================================================\n",
      " conv1d_4 (Conv1D)           (62, 3508, 10)            110       \n",
      "                                                                 \n",
      " max_pooling1d_4 (MaxPooling  (62, 701, 10)            0         \n",
      " 1D)                                                             \n",
      "                                                                 \n",
      " conv1d_5 (Conv1D)           (62, 692, 10)             1010      \n",
      "                                                                 \n",
      " max_pooling1d_5 (MaxPooling  (62, 138, 10)            0         \n",
      " 1D)                                                             \n",
      "                                                                 \n",
      " flatten_2 (Flatten)         (62, 1380)                0         \n",
      "                                                                 \n",
      " dense_2 (Dense)             (62, 2)                   2762      \n",
      "                                                                 \n",
      "=================================================================\n",
      "Total params: 3,882\n",
      "Trainable params: 3,882\n",
      "Non-trainable params: 0\n",
      "_________________________________________________________________\n"
     ]
    }
   ],
   "source": [
    "# Create the model\n",
    "model = keras.Sequential()\n",
    "\n",
    "# model.add(layers.Embedding(100, 4))\n",
    "\n",
    "model.add(layers.Conv1D(10, 10, activation='relu'))\n",
    "model.add(layers.MaxPooling1D(pool_size=5))\n",
    "model.add(layers.Conv1D(10, 10, activation='relu'))\n",
    "model.add(layers.MaxPooling1D(pool_size=5))\n",
    "model.add(layers.Flatten())\n",
    "model.add(layers.Dense(2, activation=\"relu\", \n",
    "                        bias_initializer=tf.keras.initializers.GlorotNormal(),\n",
    "                        ))\n",
    "\n",
    "optimizer = keras.optimizers.Adam(learning_rate=0.001)\n",
    "\n",
    "model.compile(optimizer=optimizer, loss=\"mean_squared_error\",\n",
    "#               metrics=[tf.keras.metrics.RootMeanSquaredError()])\n",
    "              metrics=\"mean_squared_error\")\n",
    "\n",
    "model.build(input_shape=x_train.shape)\n",
    "model.summary()"
   ]
  },
  {
   "cell_type": "code",
   "execution_count": 48,
   "metadata": {
    "colab": {
     "base_uri": "https://localhost:8080/"
    },
    "id": "RhEUsVLtqTiB",
    "outputId": "13017cf0-9442-4d85-b578-142dde43b425"
   },
   "outputs": [
    {
     "name": "stdout",
     "output_type": "stream",
     "text": [
      "Epoch 1/100\n",
      "8/8 [==============================] - 1s 28ms/step - loss: 30494.0020 - mean_squared_error: 30494.0020 - val_loss: 45087.4219 - val_mean_squared_error: 45087.4219\n",
      "Epoch 2/100\n",
      "8/8 [==============================] - 0s 13ms/step - loss: 13645.0176 - mean_squared_error: 13645.0176 - val_loss: 34268.1406 - val_mean_squared_error: 34268.1406\n",
      "Epoch 3/100\n",
      "8/8 [==============================] - 0s 13ms/step - loss: 10374.5459 - mean_squared_error: 10374.5459 - val_loss: 39849.6328 - val_mean_squared_error: 39849.6328\n",
      "Epoch 4/100\n",
      "8/8 [==============================] - 0s 14ms/step - loss: 6410.7520 - mean_squared_error: 6410.7520 - val_loss: 27598.1055 - val_mean_squared_error: 27598.1055\n",
      "Epoch 5/100\n",
      "8/8 [==============================] - 0s 13ms/step - loss: 4986.7402 - mean_squared_error: 4986.7402 - val_loss: 25687.5449 - val_mean_squared_error: 25687.5449\n",
      "Epoch 6/100\n",
      "8/8 [==============================] - 0s 12ms/step - loss: 4231.7925 - mean_squared_error: 4231.7925 - val_loss: 21562.8281 - val_mean_squared_error: 21562.8281\n",
      "Epoch 7/100\n",
      "8/8 [==============================] - 0s 12ms/step - loss: 3517.5657 - mean_squared_error: 3517.5657 - val_loss: 16315.2734 - val_mean_squared_error: 16315.2734\n",
      "Epoch 8/100\n",
      "8/8 [==============================] - 0s 13ms/step - loss: 2906.1189 - mean_squared_error: 2906.1189 - val_loss: 17496.6035 - val_mean_squared_error: 17496.6035\n",
      "Epoch 9/100\n",
      "8/8 [==============================] - 0s 12ms/step - loss: 2756.7349 - mean_squared_error: 2756.7349 - val_loss: 13066.5059 - val_mean_squared_error: 13066.5059\n",
      "Epoch 10/100\n",
      "8/8 [==============================] - 0s 12ms/step - loss: 2266.6160 - mean_squared_error: 2266.6160 - val_loss: 13609.8926 - val_mean_squared_error: 13609.8926\n",
      "Epoch 11/100\n",
      "8/8 [==============================] - 0s 14ms/step - loss: 1988.6694 - mean_squared_error: 1988.6694 - val_loss: 10756.6543 - val_mean_squared_error: 10756.6543\n",
      "Epoch 12/100\n",
      "8/8 [==============================] - 0s 13ms/step - loss: 1788.5061 - mean_squared_error: 1788.5061 - val_loss: 10463.6309 - val_mean_squared_error: 10463.6309\n",
      "Epoch 13/100\n",
      "8/8 [==============================] - 0s 13ms/step - loss: 1586.2494 - mean_squared_error: 1586.2494 - val_loss: 10315.3545 - val_mean_squared_error: 10315.3545\n",
      "Epoch 14/100\n",
      "8/8 [==============================] - 0s 15ms/step - loss: 1390.8400 - mean_squared_error: 1390.8400 - val_loss: 8497.2607 - val_mean_squared_error: 8497.2607\n",
      "Epoch 15/100\n",
      "8/8 [==============================] - 0s 13ms/step - loss: 1350.0625 - mean_squared_error: 1350.0625 - val_loss: 8690.5410 - val_mean_squared_error: 8690.5410\n",
      "Epoch 16/100\n",
      "8/8 [==============================] - 0s 13ms/step - loss: 1141.1644 - mean_squared_error: 1141.1644 - val_loss: 7649.9268 - val_mean_squared_error: 7649.9268\n",
      "Epoch 17/100\n",
      "8/8 [==============================] - 0s 14ms/step - loss: 1162.1676 - mean_squared_error: 1162.1676 - val_loss: 8327.1562 - val_mean_squared_error: 8327.1562\n",
      "Epoch 18/100\n",
      "8/8 [==============================] - 0s 14ms/step - loss: 953.3695 - mean_squared_error: 953.3695 - val_loss: 7073.8105 - val_mean_squared_error: 7073.8105\n",
      "Epoch 19/100\n",
      "8/8 [==============================] - 0s 14ms/step - loss: 882.3782 - mean_squared_error: 882.3782 - val_loss: 7803.5503 - val_mean_squared_error: 7803.5503\n",
      "Epoch 20/100\n",
      "8/8 [==============================] - 0s 13ms/step - loss: 751.9374 - mean_squared_error: 751.9374 - val_loss: 6919.1650 - val_mean_squared_error: 6919.1650\n",
      "Epoch 21/100\n",
      "8/8 [==============================] - 0s 13ms/step - loss: 710.2989 - mean_squared_error: 710.2989 - val_loss: 7700.7627 - val_mean_squared_error: 7700.7627\n",
      "Epoch 22/100\n",
      "8/8 [==============================] - 0s 14ms/step - loss: 621.4384 - mean_squared_error: 621.4384 - val_loss: 7043.6797 - val_mean_squared_error: 7043.6797\n",
      "Epoch 23/100\n",
      "8/8 [==============================] - 0s 13ms/step - loss: 557.3251 - mean_squared_error: 557.3251 - val_loss: 7820.0420 - val_mean_squared_error: 7820.0420\n",
      "Epoch 24/100\n",
      "8/8 [==============================] - 0s 13ms/step - loss: 523.7447 - mean_squared_error: 523.7447 - val_loss: 7258.1440 - val_mean_squared_error: 7258.1440\n",
      "Epoch 25/100\n",
      "8/8 [==============================] - 0s 12ms/step - loss: 466.8109 - mean_squared_error: 466.8109 - val_loss: 7595.9707 - val_mean_squared_error: 7595.9707\n",
      "Epoch 26/100\n",
      "8/8 [==============================] - 0s 14ms/step - loss: 439.1734 - mean_squared_error: 439.1734 - val_loss: 7854.7817 - val_mean_squared_error: 7854.7817\n",
      "Epoch 27/100\n",
      "8/8 [==============================] - 0s 17ms/step - loss: 410.3287 - mean_squared_error: 410.3287 - val_loss: 8632.9316 - val_mean_squared_error: 8632.9316\n",
      "Epoch 28/100\n",
      "8/8 [==============================] - 0s 15ms/step - loss: 380.0730 - mean_squared_error: 380.0730 - val_loss: 7905.5508 - val_mean_squared_error: 7905.5508\n",
      "Epoch 29/100\n",
      "8/8 [==============================] - 0s 16ms/step - loss: 361.9029 - mean_squared_error: 361.9029 - val_loss: 9488.2832 - val_mean_squared_error: 9488.2832\n",
      "Epoch 30/100\n",
      "8/8 [==============================] - 0s 13ms/step - loss: 339.5928 - mean_squared_error: 339.5928 - val_loss: 8304.0918 - val_mean_squared_error: 8304.0918\n",
      "Epoch 31/100\n",
      "8/8 [==============================] - 0s 12ms/step - loss: 284.5414 - mean_squared_error: 284.5414 - val_loss: 8955.5498 - val_mean_squared_error: 8955.5498\n",
      "Epoch 32/100\n",
      "8/8 [==============================] - 0s 12ms/step - loss: 255.3641 - mean_squared_error: 255.3641 - val_loss: 9257.8145 - val_mean_squared_error: 9257.8145\n",
      "Epoch 33/100\n",
      "8/8 [==============================] - 0s 14ms/step - loss: 209.1484 - mean_squared_error: 209.1484 - val_loss: 9000.8457 - val_mean_squared_error: 9000.8457\n",
      "Epoch 34/100\n",
      "8/8 [==============================] - 0s 14ms/step - loss: 195.9408 - mean_squared_error: 195.9408 - val_loss: 9089.8525 - val_mean_squared_error: 9089.8525\n",
      "Epoch 35/100\n",
      "8/8 [==============================] - 0s 14ms/step - loss: 196.8684 - mean_squared_error: 196.8684 - val_loss: 9572.3447 - val_mean_squared_error: 9572.3447\n",
      "Epoch 36/100\n",
      "8/8 [==============================] - 0s 17ms/step - loss: 174.5673 - mean_squared_error: 174.5673 - val_loss: 9767.4824 - val_mean_squared_error: 9767.4824\n",
      "Epoch 37/100\n",
      "8/8 [==============================] - 0s 14ms/step - loss: 152.8129 - mean_squared_error: 152.8129 - val_loss: 9615.8311 - val_mean_squared_error: 9615.8311\n",
      "Epoch 38/100\n",
      "8/8 [==============================] - 0s 15ms/step - loss: 143.7786 - mean_squared_error: 143.7786 - val_loss: 9620.9316 - val_mean_squared_error: 9620.9316\n",
      "Epoch 39/100\n",
      "8/8 [==============================] - 0s 15ms/step - loss: 138.9944 - mean_squared_error: 138.9944 - val_loss: 9795.7881 - val_mean_squared_error: 9795.7881\n",
      "Epoch 40/100\n",
      "8/8 [==============================] - 0s 13ms/step - loss: 126.3930 - mean_squared_error: 126.3930 - val_loss: 10413.5078 - val_mean_squared_error: 10413.5078\n",
      "Epoch 41/100\n",
      "8/8 [==============================] - 0s 13ms/step - loss: 99.4879 - mean_squared_error: 99.4879 - val_loss: 9694.9941 - val_mean_squared_error: 9694.9941\n",
      "Epoch 42/100\n",
      "8/8 [==============================] - 0s 13ms/step - loss: 126.6693 - mean_squared_error: 126.6693 - val_loss: 10616.3555 - val_mean_squared_error: 10616.3555\n",
      "Epoch 43/100\n",
      "8/8 [==============================] - 0s 15ms/step - loss: 112.5183 - mean_squared_error: 112.5183 - val_loss: 10642.3184 - val_mean_squared_error: 10642.3184\n",
      "Epoch 44/100\n",
      "8/8 [==============================] - 0s 16ms/step - loss: 172.4217 - mean_squared_error: 172.4217 - val_loss: 9396.2139 - val_mean_squared_error: 9396.2139\n",
      "Epoch 45/100\n",
      "8/8 [==============================] - 0s 14ms/step - loss: 126.4766 - mean_squared_error: 126.4766 - val_loss: 10819.7988 - val_mean_squared_error: 10819.7988\n",
      "Epoch 46/100\n",
      "8/8 [==============================] - 0s 14ms/step - loss: 138.6223 - mean_squared_error: 138.6223 - val_loss: 10694.7793 - val_mean_squared_error: 10694.7793\n",
      "Epoch 47/100\n",
      "8/8 [==============================] - 0s 14ms/step - loss: 156.5743 - mean_squared_error: 156.5743 - val_loss: 10249.8418 - val_mean_squared_error: 10249.8418\n",
      "Epoch 48/100\n"
     ]
    },
    {
     "name": "stdout",
     "output_type": "stream",
     "text": [
      "8/8 [==============================] - 0s 13ms/step - loss: 167.0129 - mean_squared_error: 167.0129 - val_loss: 10407.5684 - val_mean_squared_error: 10407.5684\n",
      "Epoch 49/100\n",
      "8/8 [==============================] - 0s 11ms/step - loss: 69.8528 - mean_squared_error: 69.8528 - val_loss: 10395.4824 - val_mean_squared_error: 10395.4824\n",
      "Epoch 50/100\n",
      "8/8 [==============================] - 0s 12ms/step - loss: 81.6795 - mean_squared_error: 81.6795 - val_loss: 10926.9580 - val_mean_squared_error: 10926.9580\n",
      "Epoch 51/100\n",
      "8/8 [==============================] - 0s 13ms/step - loss: 53.9159 - mean_squared_error: 53.9159 - val_loss: 10736.4551 - val_mean_squared_error: 10736.4551\n",
      "Epoch 52/100\n",
      "8/8 [==============================] - 0s 13ms/step - loss: 54.6082 - mean_squared_error: 54.6082 - val_loss: 11289.6504 - val_mean_squared_error: 11289.6504\n",
      "Epoch 53/100\n",
      "8/8 [==============================] - 0s 12ms/step - loss: 40.8825 - mean_squared_error: 40.8825 - val_loss: 10922.1191 - val_mean_squared_error: 10922.1191\n",
      "Epoch 54/100\n",
      "8/8 [==============================] - 0s 12ms/step - loss: 38.3933 - mean_squared_error: 38.3933 - val_loss: 11079.9473 - val_mean_squared_error: 11079.9473\n",
      "Epoch 55/100\n",
      "8/8 [==============================] - 0s 13ms/step - loss: 27.8955 - mean_squared_error: 27.8955 - val_loss: 11256.2168 - val_mean_squared_error: 11256.2168\n",
      "Epoch 56/100\n",
      "8/8 [==============================] - 0s 12ms/step - loss: 35.9806 - mean_squared_error: 35.9806 - val_loss: 11286.5176 - val_mean_squared_error: 11286.5176\n",
      "Epoch 57/100\n",
      "8/8 [==============================] - 0s 13ms/step - loss: 31.9210 - mean_squared_error: 31.9210 - val_loss: 11209.3408 - val_mean_squared_error: 11209.3408\n",
      "Epoch 58/100\n",
      "8/8 [==============================] - 0s 15ms/step - loss: 20.3535 - mean_squared_error: 20.3535 - val_loss: 11645.0801 - val_mean_squared_error: 11645.0801\n",
      "Epoch 59/100\n",
      "8/8 [==============================] - 0s 14ms/step - loss: 25.8832 - mean_squared_error: 25.8832 - val_loss: 11575.8359 - val_mean_squared_error: 11575.8359\n",
      "Epoch 60/100\n",
      "8/8 [==============================] - 0s 13ms/step - loss: 20.6848 - mean_squared_error: 20.6848 - val_loss: 11480.8506 - val_mean_squared_error: 11480.8506\n",
      "Epoch 61/100\n",
      "8/8 [==============================] - 0s 13ms/step - loss: 22.4345 - mean_squared_error: 22.4345 - val_loss: 11548.2461 - val_mean_squared_error: 11548.2461\n",
      "Epoch 62/100\n",
      "8/8 [==============================] - 0s 12ms/step - loss: 13.5260 - mean_squared_error: 13.5260 - val_loss: 11382.5264 - val_mean_squared_error: 11382.5264\n",
      "Epoch 63/100\n",
      "8/8 [==============================] - 0s 12ms/step - loss: 10.0273 - mean_squared_error: 10.0273 - val_loss: 11366.2969 - val_mean_squared_error: 11366.2969\n",
      "Epoch 64/100\n",
      "8/8 [==============================] - 0s 12ms/step - loss: 10.8590 - mean_squared_error: 10.8590 - val_loss: 11644.2207 - val_mean_squared_error: 11644.2207\n",
      "Epoch 65/100\n",
      "8/8 [==============================] - 0s 13ms/step - loss: 9.5685 - mean_squared_error: 9.5685 - val_loss: 11639.0781 - val_mean_squared_error: 11639.0781\n",
      "Epoch 66/100\n",
      "8/8 [==============================] - 0s 13ms/step - loss: 7.0806 - mean_squared_error: 7.0806 - val_loss: 11716.4307 - val_mean_squared_error: 11716.4307\n",
      "Epoch 67/100\n",
      "8/8 [==============================] - 0s 13ms/step - loss: 6.6270 - mean_squared_error: 6.6270 - val_loss: 11749.3438 - val_mean_squared_error: 11749.3438\n",
      "Epoch 68/100\n",
      "8/8 [==============================] - 0s 13ms/step - loss: 6.4577 - mean_squared_error: 6.4577 - val_loss: 11666.6426 - val_mean_squared_error: 11666.6426\n",
      "Epoch 69/100\n",
      "8/8 [==============================] - 0s 13ms/step - loss: 6.4728 - mean_squared_error: 6.4728 - val_loss: 11761.5664 - val_mean_squared_error: 11761.5664\n",
      "Epoch 70/100\n",
      "8/8 [==============================] - 0s 13ms/step - loss: 4.6652 - mean_squared_error: 4.6652 - val_loss: 11910.4697 - val_mean_squared_error: 11910.4697\n",
      "Epoch 71/100\n",
      "8/8 [==============================] - 0s 12ms/step - loss: 7.7266 - mean_squared_error: 7.7266 - val_loss: 12135.0176 - val_mean_squared_error: 12135.0176\n",
      "Epoch 72/100\n",
      "8/8 [==============================] - 0s 13ms/step - loss: 13.5459 - mean_squared_error: 13.5459 - val_loss: 12004.2510 - val_mean_squared_error: 12004.2510\n",
      "Epoch 73/100\n",
      "8/8 [==============================] - 0s 12ms/step - loss: 13.5201 - mean_squared_error: 13.5201 - val_loss: 12022.3428 - val_mean_squared_error: 12022.3428\n",
      "Epoch 74/100\n",
      "8/8 [==============================] - 0s 15ms/step - loss: 73.2029 - mean_squared_error: 73.2029 - val_loss: 12108.3789 - val_mean_squared_error: 12108.3789\n",
      "Epoch 75/100\n",
      "8/8 [==============================] - 0s 16ms/step - loss: 54.6496 - mean_squared_error: 54.6496 - val_loss: 12428.5508 - val_mean_squared_error: 12428.5508\n",
      "Epoch 76/100\n",
      "8/8 [==============================] - 0s 13ms/step - loss: 34.9040 - mean_squared_error: 34.9040 - val_loss: 12360.8916 - val_mean_squared_error: 12360.8916\n",
      "Epoch 77/100\n",
      "8/8 [==============================] - 0s 12ms/step - loss: 19.2346 - mean_squared_error: 19.2346 - val_loss: 12173.6836 - val_mean_squared_error: 12173.6836\n",
      "Epoch 78/100\n",
      "8/8 [==============================] - 0s 12ms/step - loss: 32.3941 - mean_squared_error: 32.3941 - val_loss: 11936.6650 - val_mean_squared_error: 11936.6650\n",
      "Epoch 79/100\n",
      "8/8 [==============================] - 0s 13ms/step - loss: 37.3580 - mean_squared_error: 37.3580 - val_loss: 11963.7402 - val_mean_squared_error: 11963.7402\n",
      "Epoch 80/100\n",
      "8/8 [==============================] - 0s 13ms/step - loss: 23.5911 - mean_squared_error: 23.5911 - val_loss: 11657.5059 - val_mean_squared_error: 11657.5059\n",
      "Epoch 81/100\n",
      "8/8 [==============================] - 0s 14ms/step - loss: 27.1952 - mean_squared_error: 27.1952 - val_loss: 11981.3027 - val_mean_squared_error: 11981.3027\n",
      "Epoch 82/100\n",
      "8/8 [==============================] - 0s 13ms/step - loss: 32.3799 - mean_squared_error: 32.3799 - val_loss: 12276.9766 - val_mean_squared_error: 12276.9766\n",
      "Epoch 83/100\n",
      "8/8 [==============================] - 0s 12ms/step - loss: 23.0755 - mean_squared_error: 23.0755 - val_loss: 11852.0430 - val_mean_squared_error: 11852.0430\n",
      "Epoch 84/100\n",
      "8/8 [==============================] - 0s 13ms/step - loss: 60.3284 - mean_squared_error: 60.3284 - val_loss: 12226.8691 - val_mean_squared_error: 12226.8691\n",
      "Epoch 85/100\n",
      "8/8 [==============================] - 0s 11ms/step - loss: 93.8291 - mean_squared_error: 93.8291 - val_loss: 12579.1523 - val_mean_squared_error: 12579.1523\n",
      "Epoch 86/100\n",
      "8/8 [==============================] - 0s 14ms/step - loss: 596.8695 - mean_squared_error: 596.8695 - val_loss: 11719.0322 - val_mean_squared_error: 11719.0322\n",
      "Epoch 87/100\n",
      "8/8 [==============================] - 0s 14ms/step - loss: 272.9163 - mean_squared_error: 272.9163 - val_loss: 11148.0645 - val_mean_squared_error: 11148.0645\n",
      "Epoch 88/100\n",
      "8/8 [==============================] - 0s 14ms/step - loss: 297.9427 - mean_squared_error: 297.9427 - val_loss: 12430.2578 - val_mean_squared_error: 12430.2578\n",
      "Epoch 89/100\n",
      "8/8 [==============================] - 0s 13ms/step - loss: 145.5223 - mean_squared_error: 145.5223 - val_loss: 11845.9141 - val_mean_squared_error: 11845.9141\n",
      "Epoch 90/100\n",
      "8/8 [==============================] - 0s 14ms/step - loss: 140.9257 - mean_squared_error: 140.9257 - val_loss: 11228.2402 - val_mean_squared_error: 11228.2402\n",
      "Epoch 91/100\n",
      "8/8 [==============================] - 0s 13ms/step - loss: 199.9835 - mean_squared_error: 199.9835 - val_loss: 11326.5098 - val_mean_squared_error: 11326.5098\n",
      "Epoch 92/100\n",
      "8/8 [==============================] - 0s 14ms/step - loss: 127.4261 - mean_squared_error: 127.4261 - val_loss: 11298.9062 - val_mean_squared_error: 11298.9062\n",
      "Epoch 93/100\n",
      "8/8 [==============================] - 0s 14ms/step - loss: 70.1945 - mean_squared_error: 70.1945 - val_loss: 11607.8184 - val_mean_squared_error: 11607.8184\n",
      "Epoch 94/100\n",
      "8/8 [==============================] - 0s 14ms/step - loss: 42.7429 - mean_squared_error: 42.7429 - val_loss: 11243.2832 - val_mean_squared_error: 11243.2832\n",
      "Epoch 95/100\n",
      "8/8 [==============================] - 0s 13ms/step - loss: 18.8031 - mean_squared_error: 18.8031 - val_loss: 11212.8730 - val_mean_squared_error: 11212.8730\n"
     ]
    },
    {
     "name": "stdout",
     "output_type": "stream",
     "text": [
      "Epoch 96/100\n",
      "8/8 [==============================] - 0s 13ms/step - loss: 15.9392 - mean_squared_error: 15.9392 - val_loss: 11423.2041 - val_mean_squared_error: 11423.2041\n",
      "Epoch 97/100\n",
      "8/8 [==============================] - 0s 12ms/step - loss: 9.0162 - mean_squared_error: 9.0162 - val_loss: 11342.4463 - val_mean_squared_error: 11342.4463\n",
      "Epoch 98/100\n",
      "8/8 [==============================] - 0s 13ms/step - loss: 7.8446 - mean_squared_error: 7.8446 - val_loss: 11392.3730 - val_mean_squared_error: 11392.3730\n",
      "Epoch 99/100\n",
      "8/8 [==============================] - 0s 14ms/step - loss: 12.3027 - mean_squared_error: 12.3027 - val_loss: 11368.7344 - val_mean_squared_error: 11368.7344\n",
      "Epoch 100/100\n",
      "8/8 [==============================] - 0s 14ms/step - loss: 14.2667 - mean_squared_error: 14.2667 - val_loss: 11302.0557 - val_mean_squared_error: 11302.0557\n"
     ]
    }
   ],
   "source": [
    "history = model.fit(x=x_train, y=y_train, epochs=100, shuffle=True,\n",
    "           batch_size=8, validation_data=(x_test, y_test))"
   ]
  },
  {
   "cell_type": "code",
   "execution_count": 49,
   "metadata": {
    "colab": {
     "base_uri": "https://localhost:8080/"
    },
    "id": "bI3Ec0zGSx0D",
    "outputId": "84bc3228-15a8-43af-8c0f-e96ae0640389"
   },
   "outputs": [
    {
     "name": "stdout",
     "output_type": "stream",
     "text": [
      "INFO:tensorflow:Assets written to: model2022-02-15/assets\n"
     ]
    }
   ],
   "source": [
    "from datetime import date\n",
    "date = date.today()\n",
    "model.save(f'model{date}')"
   ]
  },
  {
   "cell_type": "markdown",
   "metadata": {
    "id": "pZxMJLMrzo7T"
   },
   "source": [
    "### Evaluating"
   ]
  },
  {
   "cell_type": "code",
   "execution_count": 50,
   "metadata": {
    "id": "Auvi-XL2zo7U"
   },
   "outputs": [],
   "source": [
    "df_nn = modify_data_for_train(df_for_nn)\n",
    "X_text = df_nn[\"text\"].to_numpy()\n",
    "y = df_nn[[\"title_begin\", \"title_end\"]].to_numpy()\n",
    "y = np.asarray(y).astype(np.float32)\n",
    "\n",
    "X = np.array([[ord(char) for char in line] for line in X_text], dtype=object)\n",
    "\n",
    "X = keras.preprocessing.sequence.pad_sequences(X, maxlen=max_length, padding='post')\n",
    "\n",
    "X = np.expand_dims(X, axis=2)\n",
    "y = np.expand_dims(y, axis=2)"
   ]
  },
  {
   "cell_type": "code",
   "execution_count": 51,
   "metadata": {
    "colab": {
     "base_uri": "https://localhost:8080/"
    },
    "id": "qOFNRF38zo7U",
    "outputId": "e2e510bd-50df-4417-99f1-e031757235fe"
   },
   "outputs": [
    {
     "name": "stdout",
     "output_type": "stream",
     "text": [
      "4/4 [==============================] - 0s 10ms/step - loss: 4180.4639 - mean_squared_error: 4180.4639\n"
     ]
    }
   ],
   "source": [
    "results = model.evaluate(X, y, batch_size=32)"
   ]
  },
  {
   "cell_type": "code",
   "execution_count": 52,
   "metadata": {
    "colab": {
     "base_uri": "https://localhost:8080/"
    },
    "id": "nWnysroizo7U",
    "outputId": "1adde66b-f4d1-4b9d-c08c-96c5ffcc09d8"
   },
   "outputs": [],
   "source": [
    "predictions = model.predict(X)"
   ]
  },
  {
   "cell_type": "code",
   "execution_count": 53,
   "metadata": {
    "colab": {
     "base_uri": "https://localhost:8080/",
     "height": 423
    },
    "id": "SMtO9JH8zo7U",
    "outputId": "b74af9b2-b608-4d75-e5a3-c5360910ab6f"
   },
   "outputs": [],
   "source": [
    "def get_titles_from_eval(X, y_hat):\n",
    "    titles = np.array([])\n",
    "    y_hat = np.round(y_hat).astype(int)\n",
    "    for i in range(len(y_hat)):\n",
    "        titles = np.append(titles, X[i][y_hat[i][0]:y_hat[i][1]]) \n",
    "    return titles\n",
    "\n",
    "titles = get_titles_from_eval(X_text, predictions)\n",
    "filenames = df_for_nn[\"filename\"]\n",
    "\n",
    "df_nn_1 = pd.DataFrame({\"filename\" : filenames, \"title\" : titles}, index=None, columns=[\"filename\", \"title\"])"
   ]
  },
  {
   "cell_type": "code",
   "execution_count": 54,
   "metadata": {
    "id": "VtxshYLG_GTg"
   },
   "outputs": [],
   "source": [
    "for filename in df[\"filename\"].str.removeprefix(\"diploms/\"):\n",
    "    if df_nn_1[df_nn_1[\"filename\"] == filename].size == 0:\n",
    "        df_nn_1 = df_nn_1.append({'filename' : filename, 'title' : ''}, ignore_index=True)"
   ]
  },
  {
   "cell_type": "code",
   "execution_count": 55,
   "metadata": {
    "colab": {
     "base_uri": "https://localhost:8080/",
     "height": 423
    },
    "id": "RLzcC1UZVJsL",
    "outputId": "4e6f4bb8-20bb-46f1-cadf-9b54c97a675c"
   },
   "outputs": [
    {
     "data": {
      "text/html": [
       "<div>\n",
       "<style scoped>\n",
       "    .dataframe tbody tr th:only-of-type {\n",
       "        vertical-align: middle;\n",
       "    }\n",
       "\n",
       "    .dataframe tbody tr th {\n",
       "        vertical-align: top;\n",
       "    }\n",
       "\n",
       "    .dataframe thead th {\n",
       "        text-align: right;\n",
       "    }\n",
       "</style>\n",
       "<table border=\"1\" class=\"dataframe\">\n",
       "  <thead>\n",
       "    <tr style=\"text-align: right;\">\n",
       "      <th></th>\n",
       "      <th>filename</th>\n",
       "      <th>title</th>\n",
       "    </tr>\n",
       "  </thead>\n",
       "  <tbody>\n",
       "    <tr>\n",
       "      <th>0</th>\n",
       "      <td>msu/2019_Ginzburg.pdf</td>\n",
       "      <td>СОБЕННОСТИ МИКРОМАГНИТНОЙ СТРУКТУРЫ\\nПОСТОЯННЫ...</td>\n",
       "    </tr>\n",
       "    <tr>\n",
       "      <th>1</th>\n",
       "      <td>msu/ameridi_a_d.pdf</td>\n",
       "      <td>«Историко-сравнительное исследование правовых ...</td>\n",
       "    </tr>\n",
       "    <tr>\n",
       "      <th>2</th>\n",
       "      <td>msu/aristov_g_d.pdf</td>\n",
       "      <td>«Оборотоспособность права на получение патента...</td>\n",
       "    </tr>\n",
       "    <tr>\n",
       "      <th>3</th>\n",
       "      <td>msu/bagratuni_d_g.pdf</td>\n",
       "      <td>\\n«Правовые аспекты реновации жилищного фонда»</td>\n",
       "    </tr>\n",
       "    <tr>\n",
       "      <th>4</th>\n",
       "      <td>msu/îá¼áÑóÅé_»αÑñºáΘ¿Γá_ñ¿»½«¼á.pdf</td>\n",
       "      <td>аркирование выводимых на печать текстовых доку...</td>\n",
       "    </tr>\n",
       "    <tr>\n",
       "      <th>...</th>\n",
       "      <td>...</td>\n",
       "      <td>...</td>\n",
       "    </tr>\n",
       "    <tr>\n",
       "      <th>100</th>\n",
       "      <td>ruden/lashina_m_v.pdf</td>\n",
       "      <td>у\\n« Правовой режим договорных форм недропольз...</td>\n",
       "    </tr>\n",
       "    <tr>\n",
       "      <th>101</th>\n",
       "      <td>ruden/levicheva_t_k.pdf</td>\n",
       "      <td>Наследование по завещанию в праве России и не...</td>\n",
       "    </tr>\n",
       "    <tr>\n",
       "      <th>102</th>\n",
       "      <td>ruden/bodnar_v.pdf</td>\n",
       "      <td>Финансирование арбитража третьими лица</td>\n",
       "    </tr>\n",
       "    <tr>\n",
       "      <th>103</th>\n",
       "      <td>ruden/gorbacheva_a_i.pdf</td>\n",
       "      <td>Особенности правового регулирования качества ...</td>\n",
       "    </tr>\n",
       "    <tr>\n",
       "      <th>104</th>\n",
       "      <td>MFTI/2016BS_Galiullin.pdf</td>\n",
       "      <td></td>\n",
       "    </tr>\n",
       "  </tbody>\n",
       "</table>\n",
       "<p>105 rows × 2 columns</p>\n",
       "</div>"
      ],
      "text/plain": [
       "                                filename  \\\n",
       "0                  msu/2019_Ginzburg.pdf   \n",
       "1                    msu/ameridi_a_d.pdf   \n",
       "2                    msu/aristov_g_d.pdf   \n",
       "3                  msu/bagratuni_d_g.pdf   \n",
       "4    msu/îá¼áÑóÅé_»αÑñºáΘ¿Γá_ñ¿»½«¼á.pdf   \n",
       "..                                   ...   \n",
       "100                ruden/lashina_m_v.pdf   \n",
       "101              ruden/levicheva_t_k.pdf   \n",
       "102                   ruden/bodnar_v.pdf   \n",
       "103             ruden/gorbacheva_a_i.pdf   \n",
       "104            MFTI/2016BS_Galiullin.pdf   \n",
       "\n",
       "                                                 title  \n",
       "0    СОБЕННОСТИ МИКРОМАГНИТНОЙ СТРУКТУРЫ\\nПОСТОЯННЫ...  \n",
       "1    «Историко-сравнительное исследование правовых ...  \n",
       "2    «Оборотоспособность права на получение патента...  \n",
       "3       \\n«Правовые аспекты реновации жилищного фонда»  \n",
       "4    аркирование выводимых на печать текстовых доку...  \n",
       "..                                                 ...  \n",
       "100  у\\n« Правовой режим договорных форм недропольз...  \n",
       "101   Наследование по завещанию в праве России и не...  \n",
       "102             Финансирование арбитража третьими лица  \n",
       "103   Особенности правового регулирования качества ...  \n",
       "104                                                     \n",
       "\n",
       "[105 rows x 2 columns]"
      ]
     },
     "execution_count": 55,
     "metadata": {},
     "output_type": "execute_result"
    }
   ],
   "source": [
    "from datetime import date\n",
    "date = date.today()\n",
    "\n",
    "df_nn_1.to_csv(\"diplomas_extracted_nn_1.csv\", index = False)\n",
    "df_nn_1"
   ]
  },
  {
   "cell_type": "markdown",
   "metadata": {
    "id": "fF7cVMmazo7U"
   },
   "source": [
    "## Answers"
   ]
  },
  {
   "cell_type": "code",
   "execution_count": 56,
   "metadata": {
    "id": "0hAtlGKIzo7V"
   },
   "outputs": [],
   "source": [
    "import numpy as np"
   ]
  },
  {
   "cell_type": "code",
   "execution_count": 57,
   "metadata": {
    "id": "5Br5KYJUzo7V"
   },
   "outputs": [],
   "source": [
    "df_answers = pd.read_csv(\"diplomas_extracted_answers.csv\")\n",
    "df_regex = pd.read_csv(\"diplomas_extracted_regex.csv\")\n",
    "df_ner = pd.read_csv(\"diplomas_extracted_ner.csv\")\n",
    "df_nn_1 = pd.read_csv(\"diplomas_extracted_nn_1.csv\")\n",
    "\n",
    "df_answers = df_answers.sort_values(by=\"filename\")\n",
    "df_regex = df_regex.sort_values(by=\"filename\")\n",
    "df_ner = df_ner.sort_values(by=\"filename\")\n",
    "df_nn_1 = df_nn_1.sort_values(by=\"filename\")"
   ]
  },
  {
   "cell_type": "code",
   "execution_count": 58,
   "metadata": {
    "id": "WoD2vozOzo7V"
   },
   "outputs": [],
   "source": [
    "def ngrams(words, ngram):\n",
    "    temp=zip(*[words[i:] for i in range(0,ngram)])\n",
    "    ans=[' '.join(ngram) for ngram in temp]\n",
    "    return ans\n",
    "\n",
    "def scores(y, y_hat):\n",
    "    y = y.to_numpy()\n",
    "    y_hat = y_hat.to_numpy()\n",
    "    l = min(len(y), len(y_hat))\n",
    "    accuracy = np.array([])\n",
    "    recall = np.array([])\n",
    "    precision = np.array([])\n",
    "    f1 = np.array([])\n",
    "    \n",
    "    for i in range(l):\n",
    "        if y[i] is np.nan and y_hat[i] is np.nan:\n",
    "            tp = 1\n",
    "            fp = 0\n",
    "            fn = 0\n",
    "        elif y_hat[i] is np.nan or y[i] is np.nan:\n",
    "            tp = 0\n",
    "            fp = 1\n",
    "            fn = 1\n",
    "        else:\n",
    "            try:\n",
    "                y_i = y[i].lower().split()         \n",
    "                y_i += ngrams(y_i, 2)     # adding bigrams\n",
    "                y_hat_i = y_hat[i].lower().split()\n",
    "                y_hat_i += ngrams(y_hat_i, 2)     # adding bigrams\n",
    "            except:\n",
    "                y_i = [y[i]]\n",
    "                y_hat_i = [y_hat[i]]\n",
    "            tp = len(set(y_hat_i).intersection(y_i))     # intersection\n",
    "            fp = (len(set(y_hat_i)) - len(set(y_hat_i).intersection(y_i)))\n",
    "            fn = (len(set(y_i)) - len(set(y_hat_i).intersection(y_i))) \n",
    "\n",
    "        acc = tp / (tp + fp + fn)\n",
    "        try:\n",
    "            pre = tp / (tp + fp)\n",
    "        except:\n",
    "            pass\n",
    "        rec = tp / (tp + fn)\n",
    "        accuracy = np.append(accuracy, acc)\n",
    "        precision = np.append(precision, pre)\n",
    "        recall = np.append(recall, rec)\n",
    "        if rec == 0 and pre == 0:\n",
    "            f1 = np.append(f1, 0)\n",
    "        else:\n",
    "            f1 = np.append(f1, 2 * pre * rec / (pre + rec))\n",
    "            \n",
    "    return np.mean(accuracy), np.mean(precision), np.mean(recall), np.mean(f1)"
   ]
  },
  {
   "cell_type": "code",
   "execution_count": 59,
   "metadata": {
    "colab": {
     "base_uri": "https://localhost:8080/",
     "height": 394
    },
    "id": "zG5eMjkizo7W",
    "outputId": "dce11ebb-420b-4801-b73a-a5e51c15ea4d"
   },
   "outputs": [
    {
     "data": {
      "text/html": [
       "<div>\n",
       "<style scoped>\n",
       "    .dataframe tbody tr th:only-of-type {\n",
       "        vertical-align: middle;\n",
       "    }\n",
       "\n",
       "    .dataframe tbody tr th {\n",
       "        vertical-align: top;\n",
       "    }\n",
       "\n",
       "    .dataframe thead th {\n",
       "        text-align: right;\n",
       "    }\n",
       "</style>\n",
       "<table border=\"1\" class=\"dataframe\">\n",
       "  <thead>\n",
       "    <tr style=\"text-align: right;\">\n",
       "      <th></th>\n",
       "      <th>column</th>\n",
       "      <th>type</th>\n",
       "      <th>accuracy</th>\n",
       "      <th>precision</th>\n",
       "      <th>recall</th>\n",
       "      <th>f1</th>\n",
       "    </tr>\n",
       "  </thead>\n",
       "  <tbody>\n",
       "    <tr>\n",
       "      <th>0</th>\n",
       "      <td>year</td>\n",
       "      <td>re</td>\n",
       "      <td>0.961905</td>\n",
       "      <td>0.961905</td>\n",
       "      <td>0.961905</td>\n",
       "      <td>0.961905</td>\n",
       "    </tr>\n",
       "    <tr>\n",
       "      <th>1</th>\n",
       "      <td>university</td>\n",
       "      <td>re</td>\n",
       "      <td>0.990476</td>\n",
       "      <td>0.990476</td>\n",
       "      <td>0.990476</td>\n",
       "      <td>0.990476</td>\n",
       "    </tr>\n",
       "    <tr>\n",
       "      <th>2</th>\n",
       "      <td>faculty</td>\n",
       "      <td>re</td>\n",
       "      <td>0.98836</td>\n",
       "      <td>0.98836</td>\n",
       "      <td>0.990476</td>\n",
       "      <td>0.989286</td>\n",
       "    </tr>\n",
       "    <tr>\n",
       "      <th>3</th>\n",
       "      <td>department</td>\n",
       "      <td>re</td>\n",
       "      <td>0.742857</td>\n",
       "      <td>0.742857</td>\n",
       "      <td>0.742857</td>\n",
       "      <td>0.742857</td>\n",
       "    </tr>\n",
       "    <tr>\n",
       "      <th>4</th>\n",
       "      <td>speciality</td>\n",
       "      <td>re</td>\n",
       "      <td>0.771494</td>\n",
       "      <td>0.783987</td>\n",
       "      <td>0.958277</td>\n",
       "      <td>0.819392</td>\n",
       "    </tr>\n",
       "    <tr>\n",
       "      <th>5</th>\n",
       "      <td>author</td>\n",
       "      <td>re</td>\n",
       "      <td>0.714014</td>\n",
       "      <td>0.71746</td>\n",
       "      <td>0.731429</td>\n",
       "      <td>0.722381</td>\n",
       "    </tr>\n",
       "    <tr>\n",
       "      <th>6</th>\n",
       "      <td>author</td>\n",
       "      <td>ner</td>\n",
       "      <td>0.57551</td>\n",
       "      <td>0.577143</td>\n",
       "      <td>0.577143</td>\n",
       "      <td>0.577143</td>\n",
       "    </tr>\n",
       "    <tr>\n",
       "      <th>7</th>\n",
       "      <td>supervisor</td>\n",
       "      <td>re</td>\n",
       "      <td>0.74963</td>\n",
       "      <td>0.754286</td>\n",
       "      <td>0.750476</td>\n",
       "      <td>0.751905</td>\n",
       "    </tr>\n",
       "    <tr>\n",
       "      <th>8</th>\n",
       "      <td>supervisor</td>\n",
       "      <td>ner</td>\n",
       "      <td>0.730582</td>\n",
       "      <td>0.735238</td>\n",
       "      <td>0.731429</td>\n",
       "      <td>0.732857</td>\n",
       "    </tr>\n",
       "    <tr>\n",
       "      <th>9</th>\n",
       "      <td>title</td>\n",
       "      <td>re</td>\n",
       "      <td>0.352783</td>\n",
       "      <td>0.365288</td>\n",
       "      <td>0.357935</td>\n",
       "      <td>0.360771</td>\n",
       "    </tr>\n",
       "    <tr>\n",
       "      <th>10</th>\n",
       "      <td>title</td>\n",
       "      <td>nn_1</td>\n",
       "      <td>0.57049</td>\n",
       "      <td>0.619338</td>\n",
       "      <td>0.736285</td>\n",
       "      <td>0.651066</td>\n",
       "    </tr>\n",
       "  </tbody>\n",
       "</table>\n",
       "</div>"
      ],
      "text/plain": [
       "        column  type  accuracy precision    recall        f1\n",
       "0         year    re  0.961905  0.961905  0.961905  0.961905\n",
       "1   university    re  0.990476  0.990476  0.990476  0.990476\n",
       "2      faculty    re   0.98836   0.98836  0.990476  0.989286\n",
       "3   department    re  0.742857  0.742857  0.742857  0.742857\n",
       "4   speciality    re  0.771494  0.783987  0.958277  0.819392\n",
       "5       author    re  0.714014   0.71746  0.731429  0.722381\n",
       "6       author   ner   0.57551  0.577143  0.577143  0.577143\n",
       "7   supervisor    re   0.74963  0.754286  0.750476  0.751905\n",
       "8   supervisor   ner  0.730582  0.735238  0.731429  0.732857\n",
       "9        title    re  0.352783  0.365288  0.357935  0.360771\n",
       "10       title  nn_1   0.57049  0.619338  0.736285  0.651066"
      ]
     },
     "execution_count": 59,
     "metadata": {},
     "output_type": "execute_result"
    }
   ],
   "source": [
    "score = pd.DataFrame(columns=['column', 'type', 'accuracy', 'precision', 'recall', 'f1'])\n",
    "\n",
    "for col in df_answers.columns[1:]:\n",
    "    if col in df_regex.columns:\n",
    "        sc = scores(df_answers[col], df_regex[col])\n",
    "        dic = {\n",
    "            'column' : col,\n",
    "            'type': 're',\n",
    "            'accuracy': sc[0], \n",
    "            'precision': sc[1], \n",
    "            'recall': sc[2], \n",
    "            'f1': sc[3], \n",
    "        }\n",
    "        score = score.append(dic, ignore_index = True)\n",
    "    if col in df_nn_1.columns:\n",
    "        sc = scores(df_answers[col], df_nn_1[col])\n",
    "        dic = {\n",
    "            'column' : col,\n",
    "            'type' : 'nn_1',\n",
    "            'accuracy': sc[0], \n",
    "            'precision': sc[1], \n",
    "            'recall': sc[2], \n",
    "            'f1': sc[3], \n",
    "        }\n",
    "        score = score.append(dic, ignore_index = True)\n",
    "    if col in df_ner.columns:\n",
    "        sc = scores(df_answers[col], df_ner[col])\n",
    "        dic = {\n",
    "            'column' : col,\n",
    "            'type' : 'ner',\n",
    "            'accuracy': sc[0], \n",
    "            'precision': sc[1], \n",
    "            'recall': sc[2], \n",
    "            'f1': sc[3], \n",
    "        }\n",
    "        score = score.append(dic, ignore_index = True)\n",
    "# score[['column', 'type', 'f1']]\n",
    "score"
   ]
  },
  {
   "cell_type": "code",
   "execution_count": 60,
   "metadata": {
    "id": "eOrmxkiuPTgi"
   },
   "outputs": [],
   "source": [
    "score.to_csv(\"score.csv\", index = False)"
   ]
  },
  {
   "cell_type": "code",
   "execution_count": null,
   "metadata": {
    "id": "1udaKAFZUrSP"
   },
   "outputs": [],
   "source": []
  }
 ],
 "metadata": {
  "colab": {
   "collapsed_sections": [
    "ixvGiAYk40oJ",
    "b-MccXJbzo7A",
    "vpOnIJeOzo7F",
    "Obhb3cY9zo7K",
    "BUEm7J9ozo7N"
   ],
   "name": "diplomas_extraction-то-что-нужно-сохранить-и-что-является-черновиком.ipynb",
   "provenance": []
  },
  "kernelspec": {
   "display_name": "Python 3 (ipykernel)",
   "language": "python",
   "name": "python3"
  },
  "language_info": {
   "codemirror_mode": {
    "name": "ipython",
    "version": 3
   },
   "file_extension": ".py",
   "mimetype": "text/x-python",
   "name": "python",
   "nbconvert_exporter": "python",
   "pygments_lexer": "ipython3",
   "version": "3.8.10"
  },
  "widgets": {
   "application/vnd.jupyter.widget-state+json": {
    "17cabe182e5b46d08e562f87fc62fd37": {
     "model_module": "@jupyter-widgets/controls",
     "model_module_version": "1.5.0",
     "model_name": "HBoxModel",
     "state": {
      "_dom_classes": [],
      "_model_module": "@jupyter-widgets/controls",
      "_model_module_version": "1.5.0",
      "_model_name": "HBoxModel",
      "_view_count": null,
      "_view_module": "@jupyter-widgets/controls",
      "_view_module_version": "1.5.0",
      "_view_name": "HBoxView",
      "box_style": "",
      "children": [
       "IPY_MODEL_d0d65b4945fb4e24aeee20c1dd5aac79",
       "IPY_MODEL_b80d6a48bc904db2a2f8e1058e9951f7",
       "IPY_MODEL_79c3a7f5bda44a8d92efdd1f654a941f"
      ],
      "layout": "IPY_MODEL_46c12e9cd41340eb871e10f529b4c08e"
     }
    },
    "19033f6100544027a85e0ebbb64bcd73": {
     "model_module": "@jupyter-widgets/controls",
     "model_module_version": "1.5.0",
     "model_name": "DescriptionStyleModel",
     "state": {
      "_model_module": "@jupyter-widgets/controls",
      "_model_module_version": "1.5.0",
      "_model_name": "DescriptionStyleModel",
      "_view_count": null,
      "_view_module": "@jupyter-widgets/base",
      "_view_module_version": "1.2.0",
      "_view_name": "StyleView",
      "description_width": ""
     }
    },
    "2bcec3a1b68d420898f194f30753f9cf": {
     "model_module": "@jupyter-widgets/controls",
     "model_module_version": "1.5.0",
     "model_name": "DescriptionStyleModel",
     "state": {
      "_model_module": "@jupyter-widgets/controls",
      "_model_module_version": "1.5.0",
      "_model_name": "DescriptionStyleModel",
      "_view_count": null,
      "_view_module": "@jupyter-widgets/base",
      "_view_module_version": "1.2.0",
      "_view_name": "StyleView",
      "description_width": ""
     }
    },
    "46c12e9cd41340eb871e10f529b4c08e": {
     "model_module": "@jupyter-widgets/base",
     "model_module_version": "1.2.0",
     "model_name": "LayoutModel",
     "state": {
      "_model_module": "@jupyter-widgets/base",
      "_model_module_version": "1.2.0",
      "_model_name": "LayoutModel",
      "_view_count": null,
      "_view_module": "@jupyter-widgets/base",
      "_view_module_version": "1.2.0",
      "_view_name": "LayoutView",
      "align_content": null,
      "align_items": null,
      "align_self": null,
      "border": null,
      "bottom": null,
      "display": null,
      "flex": null,
      "flex_flow": null,
      "grid_area": null,
      "grid_auto_columns": null,
      "grid_auto_flow": null,
      "grid_auto_rows": null,
      "grid_column": null,
      "grid_gap": null,
      "grid_row": null,
      "grid_template_areas": null,
      "grid_template_columns": null,
      "grid_template_rows": null,
      "height": null,
      "justify_content": null,
      "justify_items": null,
      "left": null,
      "margin": null,
      "max_height": null,
      "max_width": null,
      "min_height": null,
      "min_width": null,
      "object_fit": null,
      "object_position": null,
      "order": null,
      "overflow": null,
      "overflow_x": null,
      "overflow_y": null,
      "padding": null,
      "right": null,
      "top": null,
      "visibility": null,
      "width": null
     }
    },
    "471a06eac1214bb0b7b112fbeeda484a": {
     "model_module": "@jupyter-widgets/controls",
     "model_module_version": "1.5.0",
     "model_name": "ProgressStyleModel",
     "state": {
      "_model_module": "@jupyter-widgets/controls",
      "_model_module_version": "1.5.0",
      "_model_name": "ProgressStyleModel",
      "_view_count": null,
      "_view_module": "@jupyter-widgets/base",
      "_view_module_version": "1.2.0",
      "_view_name": "StyleView",
      "bar_color": null,
      "description_width": ""
     }
    },
    "68cbf71fc3914731ac474acdeb7337d6": {
     "model_module": "@jupyter-widgets/controls",
     "model_module_version": "1.5.0",
     "model_name": "HTMLModel",
     "state": {
      "_dom_classes": [],
      "_model_module": "@jupyter-widgets/controls",
      "_model_module_version": "1.5.0",
      "_model_name": "HTMLModel",
      "_view_count": null,
      "_view_module": "@jupyter-widgets/controls",
      "_view_module_version": "1.5.0",
      "_view_name": "HTMLView",
      "description": "",
      "description_tooltip": null,
      "layout": "IPY_MODEL_9d2d0fed62c6468baa5298f7df5c88ef",
      "placeholder": "​",
      "style": "IPY_MODEL_9038980f14184dfe90c68fd864f8b37f",
      "value": " 142k/? [00:00&lt;00:00, 1.37MB/s]"
     }
    },
    "6e2ca4978fd14bf0b4bb9ae291685e29": {
     "model_module": "@jupyter-widgets/controls",
     "model_module_version": "1.5.0",
     "model_name": "FloatProgressModel",
     "state": {
      "_dom_classes": [],
      "_model_module": "@jupyter-widgets/controls",
      "_model_module_version": "1.5.0",
      "_model_name": "FloatProgressModel",
      "_view_count": null,
      "_view_module": "@jupyter-widgets/controls",
      "_view_module_version": "1.5.0",
      "_view_name": "ProgressView",
      "bar_style": "success",
      "description": "",
      "description_tooltip": null,
      "layout": "IPY_MODEL_91a4b7c0fd074be68858f70803c67d2f",
      "max": 24459,
      "min": 0,
      "orientation": "horizontal",
      "style": "IPY_MODEL_ffa0025d6ceb4107a020c59bd3a47fad",
      "value": 24459
     }
    },
    "79c3a7f5bda44a8d92efdd1f654a941f": {
     "model_module": "@jupyter-widgets/controls",
     "model_module_version": "1.5.0",
     "model_name": "HTMLModel",
     "state": {
      "_dom_classes": [],
      "_model_module": "@jupyter-widgets/controls",
      "_model_module_version": "1.5.0",
      "_model_name": "HTMLModel",
      "_view_count": null,
      "_view_module": "@jupyter-widgets/controls",
      "_view_module_version": "1.5.0",
      "_view_name": "HTMLView",
      "description": "",
      "description_tooltip": null,
      "layout": "IPY_MODEL_adb7b76ff76945ad83020b32a9473bf8",
      "placeholder": "​",
      "style": "IPY_MODEL_2bcec3a1b68d420898f194f30753f9cf",
      "value": " 574M/574M [00:05&lt;00:00, 123MB/s]"
     }
    },
    "9038980f14184dfe90c68fd864f8b37f": {
     "model_module": "@jupyter-widgets/controls",
     "model_module_version": "1.5.0",
     "model_name": "DescriptionStyleModel",
     "state": {
      "_model_module": "@jupyter-widgets/controls",
      "_model_module_version": "1.5.0",
      "_model_name": "DescriptionStyleModel",
      "_view_count": null,
      "_view_module": "@jupyter-widgets/base",
      "_view_module_version": "1.2.0",
      "_view_name": "StyleView",
      "description_width": ""
     }
    },
    "91a4b7c0fd074be68858f70803c67d2f": {
     "model_module": "@jupyter-widgets/base",
     "model_module_version": "1.2.0",
     "model_name": "LayoutModel",
     "state": {
      "_model_module": "@jupyter-widgets/base",
      "_model_module_version": "1.2.0",
      "_model_name": "LayoutModel",
      "_view_count": null,
      "_view_module": "@jupyter-widgets/base",
      "_view_module_version": "1.2.0",
      "_view_name": "LayoutView",
      "align_content": null,
      "align_items": null,
      "align_self": null,
      "border": null,
      "bottom": null,
      "display": null,
      "flex": null,
      "flex_flow": null,
      "grid_area": null,
      "grid_auto_columns": null,
      "grid_auto_flow": null,
      "grid_auto_rows": null,
      "grid_column": null,
      "grid_gap": null,
      "grid_row": null,
      "grid_template_areas": null,
      "grid_template_columns": null,
      "grid_template_rows": null,
      "height": null,
      "justify_content": null,
      "justify_items": null,
      "left": null,
      "margin": null,
      "max_height": null,
      "max_width": null,
      "min_height": null,
      "min_width": null,
      "object_fit": null,
      "object_position": null,
      "order": null,
      "overflow": null,
      "overflow_x": null,
      "overflow_y": null,
      "padding": null,
      "right": null,
      "top": null,
      "visibility": null,
      "width": null
     }
    },
    "94c493611ca145d5a5c0ba7f367a19c7": {
     "model_module": "@jupyter-widgets/base",
     "model_module_version": "1.2.0",
     "model_name": "LayoutModel",
     "state": {
      "_model_module": "@jupyter-widgets/base",
      "_model_module_version": "1.2.0",
      "_model_name": "LayoutModel",
      "_view_count": null,
      "_view_module": "@jupyter-widgets/base",
      "_view_module_version": "1.2.0",
      "_view_name": "LayoutView",
      "align_content": null,
      "align_items": null,
      "align_self": null,
      "border": null,
      "bottom": null,
      "display": null,
      "flex": null,
      "flex_flow": null,
      "grid_area": null,
      "grid_auto_columns": null,
      "grid_auto_flow": null,
      "grid_auto_rows": null,
      "grid_column": null,
      "grid_gap": null,
      "grid_row": null,
      "grid_template_areas": null,
      "grid_template_columns": null,
      "grid_template_rows": null,
      "height": null,
      "justify_content": null,
      "justify_items": null,
      "left": null,
      "margin": null,
      "max_height": null,
      "max_width": null,
      "min_height": null,
      "min_width": null,
      "object_fit": null,
      "object_position": null,
      "order": null,
      "overflow": null,
      "overflow_x": null,
      "overflow_y": null,
      "padding": null,
      "right": null,
      "top": null,
      "visibility": null,
      "width": null
     }
    },
    "99073adf24044153ab679ea4d6f703da": {
     "model_module": "@jupyter-widgets/base",
     "model_module_version": "1.2.0",
     "model_name": "LayoutModel",
     "state": {
      "_model_module": "@jupyter-widgets/base",
      "_model_module_version": "1.2.0",
      "_model_name": "LayoutModel",
      "_view_count": null,
      "_view_module": "@jupyter-widgets/base",
      "_view_module_version": "1.2.0",
      "_view_name": "LayoutView",
      "align_content": null,
      "align_items": null,
      "align_self": null,
      "border": null,
      "bottom": null,
      "display": null,
      "flex": null,
      "flex_flow": null,
      "grid_area": null,
      "grid_auto_columns": null,
      "grid_auto_flow": null,
      "grid_auto_rows": null,
      "grid_column": null,
      "grid_gap": null,
      "grid_row": null,
      "grid_template_areas": null,
      "grid_template_columns": null,
      "grid_template_rows": null,
      "height": null,
      "justify_content": null,
      "justify_items": null,
      "left": null,
      "margin": null,
      "max_height": null,
      "max_width": null,
      "min_height": null,
      "min_width": null,
      "object_fit": null,
      "object_position": null,
      "order": null,
      "overflow": null,
      "overflow_x": null,
      "overflow_y": null,
      "padding": null,
      "right": null,
      "top": null,
      "visibility": null,
      "width": null
     }
    },
    "9d2d0fed62c6468baa5298f7df5c88ef": {
     "model_module": "@jupyter-widgets/base",
     "model_module_version": "1.2.0",
     "model_name": "LayoutModel",
     "state": {
      "_model_module": "@jupyter-widgets/base",
      "_model_module_version": "1.2.0",
      "_model_name": "LayoutModel",
      "_view_count": null,
      "_view_module": "@jupyter-widgets/base",
      "_view_module_version": "1.2.0",
      "_view_name": "LayoutView",
      "align_content": null,
      "align_items": null,
      "align_self": null,
      "border": null,
      "bottom": null,
      "display": null,
      "flex": null,
      "flex_flow": null,
      "grid_area": null,
      "grid_auto_columns": null,
      "grid_auto_flow": null,
      "grid_auto_rows": null,
      "grid_column": null,
      "grid_gap": null,
      "grid_row": null,
      "grid_template_areas": null,
      "grid_template_columns": null,
      "grid_template_rows": null,
      "height": null,
      "justify_content": null,
      "justify_items": null,
      "left": null,
      "margin": null,
      "max_height": null,
      "max_width": null,
      "min_height": null,
      "min_width": null,
      "object_fit": null,
      "object_position": null,
      "order": null,
      "overflow": null,
      "overflow_x": null,
      "overflow_y": null,
      "padding": null,
      "right": null,
      "top": null,
      "visibility": null,
      "width": null
     }
    },
    "adb7b76ff76945ad83020b32a9473bf8": {
     "model_module": "@jupyter-widgets/base",
     "model_module_version": "1.2.0",
     "model_name": "LayoutModel",
     "state": {
      "_model_module": "@jupyter-widgets/base",
      "_model_module_version": "1.2.0",
      "_model_name": "LayoutModel",
      "_view_count": null,
      "_view_module": "@jupyter-widgets/base",
      "_view_module_version": "1.2.0",
      "_view_name": "LayoutView",
      "align_content": null,
      "align_items": null,
      "align_self": null,
      "border": null,
      "bottom": null,
      "display": null,
      "flex": null,
      "flex_flow": null,
      "grid_area": null,
      "grid_auto_columns": null,
      "grid_auto_flow": null,
      "grid_auto_rows": null,
      "grid_column": null,
      "grid_gap": null,
      "grid_row": null,
      "grid_template_areas": null,
      "grid_template_columns": null,
      "grid_template_rows": null,
      "height": null,
      "justify_content": null,
      "justify_items": null,
      "left": null,
      "margin": null,
      "max_height": null,
      "max_width": null,
      "min_height": null,
      "min_width": null,
      "object_fit": null,
      "object_position": null,
      "order": null,
      "overflow": null,
      "overflow_x": null,
      "overflow_y": null,
      "padding": null,
      "right": null,
      "top": null,
      "visibility": null,
      "width": null
     }
    },
    "affcde3d377340ee9e7202b5a5fb1c7e": {
     "model_module": "@jupyter-widgets/base",
     "model_module_version": "1.2.0",
     "model_name": "LayoutModel",
     "state": {
      "_model_module": "@jupyter-widgets/base",
      "_model_module_version": "1.2.0",
      "_model_name": "LayoutModel",
      "_view_count": null,
      "_view_module": "@jupyter-widgets/base",
      "_view_module_version": "1.2.0",
      "_view_name": "LayoutView",
      "align_content": null,
      "align_items": null,
      "align_self": null,
      "border": null,
      "bottom": null,
      "display": null,
      "flex": null,
      "flex_flow": null,
      "grid_area": null,
      "grid_auto_columns": null,
      "grid_auto_flow": null,
      "grid_auto_rows": null,
      "grid_column": null,
      "grid_gap": null,
      "grid_row": null,
      "grid_template_areas": null,
      "grid_template_columns": null,
      "grid_template_rows": null,
      "height": null,
      "justify_content": null,
      "justify_items": null,
      "left": null,
      "margin": null,
      "max_height": null,
      "max_width": null,
      "min_height": null,
      "min_width": null,
      "object_fit": null,
      "object_position": null,
      "order": null,
      "overflow": null,
      "overflow_x": null,
      "overflow_y": null,
      "padding": null,
      "right": null,
      "top": null,
      "visibility": null,
      "width": null
     }
    },
    "b73cec7fa5d84df9ac19df1db927b783": {
     "model_module": "@jupyter-widgets/controls",
     "model_module_version": "1.5.0",
     "model_name": "HTMLModel",
     "state": {
      "_dom_classes": [],
      "_model_module": "@jupyter-widgets/controls",
      "_model_module_version": "1.5.0",
      "_model_name": "HTMLModel",
      "_view_count": null,
      "_view_module": "@jupyter-widgets/controls",
      "_view_module_version": "1.5.0",
      "_view_name": "HTMLView",
      "description": "",
      "description_tooltip": null,
      "layout": "IPY_MODEL_ee7e9674809d437db4bdef7861f67175",
      "placeholder": "​",
      "style": "IPY_MODEL_d3b365e6ee884c3b83b4d46b86a668fc",
      "value": "Downloading https://raw.githubusercontent.com/stanfordnlp/stanza-resources/main/resources_1.3.0.json: "
     }
    },
    "b80d6a48bc904db2a2f8e1058e9951f7": {
     "model_module": "@jupyter-widgets/controls",
     "model_module_version": "1.5.0",
     "model_name": "FloatProgressModel",
     "state": {
      "_dom_classes": [],
      "_model_module": "@jupyter-widgets/controls",
      "_model_module_version": "1.5.0",
      "_model_name": "FloatProgressModel",
      "_view_count": null,
      "_view_module": "@jupyter-widgets/controls",
      "_view_module_version": "1.5.0",
      "_view_name": "ProgressView",
      "bar_style": "success",
      "description": "",
      "description_tooltip": null,
      "layout": "IPY_MODEL_99073adf24044153ab679ea4d6f703da",
      "max": 574067219,
      "min": 0,
      "orientation": "horizontal",
      "style": "IPY_MODEL_471a06eac1214bb0b7b112fbeeda484a",
      "value": 574067219
     }
    },
    "d0d65b4945fb4e24aeee20c1dd5aac79": {
     "model_module": "@jupyter-widgets/controls",
     "model_module_version": "1.5.0",
     "model_name": "HTMLModel",
     "state": {
      "_dom_classes": [],
      "_model_module": "@jupyter-widgets/controls",
      "_model_module_version": "1.5.0",
      "_model_name": "HTMLModel",
      "_view_count": null,
      "_view_module": "@jupyter-widgets/controls",
      "_view_module_version": "1.5.0",
      "_view_name": "HTMLView",
      "description": "",
      "description_tooltip": null,
      "layout": "IPY_MODEL_94c493611ca145d5a5c0ba7f367a19c7",
      "placeholder": "​",
      "style": "IPY_MODEL_19033f6100544027a85e0ebbb64bcd73",
      "value": "Downloading https://huggingface.co/stanfordnlp/stanza-ru/resolve/v1.3.0/models/default.zip: 100%"
     }
    },
    "d3b365e6ee884c3b83b4d46b86a668fc": {
     "model_module": "@jupyter-widgets/controls",
     "model_module_version": "1.5.0",
     "model_name": "DescriptionStyleModel",
     "state": {
      "_model_module": "@jupyter-widgets/controls",
      "_model_module_version": "1.5.0",
      "_model_name": "DescriptionStyleModel",
      "_view_count": null,
      "_view_module": "@jupyter-widgets/base",
      "_view_module_version": "1.2.0",
      "_view_name": "StyleView",
      "description_width": ""
     }
    },
    "eb52f4392ac447fc8ec66926f6d279cd": {
     "model_module": "@jupyter-widgets/controls",
     "model_module_version": "1.5.0",
     "model_name": "HBoxModel",
     "state": {
      "_dom_classes": [],
      "_model_module": "@jupyter-widgets/controls",
      "_model_module_version": "1.5.0",
      "_model_name": "HBoxModel",
      "_view_count": null,
      "_view_module": "@jupyter-widgets/controls",
      "_view_module_version": "1.5.0",
      "_view_name": "HBoxView",
      "box_style": "",
      "children": [
       "IPY_MODEL_b73cec7fa5d84df9ac19df1db927b783",
       "IPY_MODEL_6e2ca4978fd14bf0b4bb9ae291685e29",
       "IPY_MODEL_68cbf71fc3914731ac474acdeb7337d6"
      ],
      "layout": "IPY_MODEL_affcde3d377340ee9e7202b5a5fb1c7e"
     }
    },
    "ee7e9674809d437db4bdef7861f67175": {
     "model_module": "@jupyter-widgets/base",
     "model_module_version": "1.2.0",
     "model_name": "LayoutModel",
     "state": {
      "_model_module": "@jupyter-widgets/base",
      "_model_module_version": "1.2.0",
      "_model_name": "LayoutModel",
      "_view_count": null,
      "_view_module": "@jupyter-widgets/base",
      "_view_module_version": "1.2.0",
      "_view_name": "LayoutView",
      "align_content": null,
      "align_items": null,
      "align_self": null,
      "border": null,
      "bottom": null,
      "display": null,
      "flex": null,
      "flex_flow": null,
      "grid_area": null,
      "grid_auto_columns": null,
      "grid_auto_flow": null,
      "grid_auto_rows": null,
      "grid_column": null,
      "grid_gap": null,
      "grid_row": null,
      "grid_template_areas": null,
      "grid_template_columns": null,
      "grid_template_rows": null,
      "height": null,
      "justify_content": null,
      "justify_items": null,
      "left": null,
      "margin": null,
      "max_height": null,
      "max_width": null,
      "min_height": null,
      "min_width": null,
      "object_fit": null,
      "object_position": null,
      "order": null,
      "overflow": null,
      "overflow_x": null,
      "overflow_y": null,
      "padding": null,
      "right": null,
      "top": null,
      "visibility": null,
      "width": null
     }
    },
    "ffa0025d6ceb4107a020c59bd3a47fad": {
     "model_module": "@jupyter-widgets/controls",
     "model_module_version": "1.5.0",
     "model_name": "ProgressStyleModel",
     "state": {
      "_model_module": "@jupyter-widgets/controls",
      "_model_module_version": "1.5.0",
      "_model_name": "ProgressStyleModel",
      "_view_count": null,
      "_view_module": "@jupyter-widgets/base",
      "_view_module_version": "1.2.0",
      "_view_name": "StyleView",
      "bar_color": null,
      "description_width": ""
     }
    }
   }
  }
 },
 "nbformat": 4,
 "nbformat_minor": 1
}
