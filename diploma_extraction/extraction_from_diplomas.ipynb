{
 "cells": [
  {
   "cell_type": "markdown",
   "metadata": {},
   "source": [
    "# Data extraction from the title page of the thesis (RUS)\n",
    "\n",
    "- [ ] title\n",
    "- [ ] name of faculty\n",
    "- [ ] name of department\n",
    "- [ ] full name of the student\n",
    "- [ ] full name of the supervisor\n",
    "- [ ] speciality\n",
    "- [ ] year"
   ]
  },
  {
   "cell_type": "code",
   "execution_count": 1,
   "metadata": {},
   "outputs": [],
   "source": [
    "# uncomment if not installed\n",
    "# !pip3 install pdfminer.six"
   ]
  },
  {
   "cell_type": "markdown",
   "metadata": {},
   "source": [
    "## getting title page from PDF (1 pdf)"
   ]
  },
  {
   "cell_type": "code",
   "execution_count": 2,
   "metadata": {},
   "outputs": [],
   "source": [
    "from io import StringIO\n",
    "\n",
    "from pdfminer.converter import TextConverter\n",
    "from pdfminer.layout import LAParams\n",
    "from pdfminer.pdfdocument import PDFDocument\n",
    "from pdfminer.pdfinterp import PDFResourceManager, PDFPageInterpreter\n",
    "from pdfminer.pdfpage import PDFPage\n",
    "from pdfminer.pdfparser import PDFParser"
   ]
  },
  {
   "cell_type": "code",
   "execution_count": 3,
   "metadata": {},
   "outputs": [],
   "source": [
    "# constants\n",
    "FILE_PATH = \"diploms/1.pdf\""
   ]
  },
  {
   "cell_type": "code",
   "execution_count": 4,
   "metadata": {},
   "outputs": [
    {
     "name": "stdout",
     "output_type": "stream",
     "text": [
      "1 \n",
      "\n",
      "ГОУ ВПО​  ​РОССИЙСКО-АРМЯНСКИЙ  (СЛАВЯНСКИЙ) \n",
      "УНИВЕРСИТЕТ \n",
      "ИНСТИТУТ МАТЕМАТИКИ И ИНФОРМАТИКИ \n",
      "СПЕЦИАЛЬНОСТЬ: ПРИКЛАДНАЯ МАТЕМАТИКА И ИНФОРМАТИКА \n",
      "КАФЕДРА СИСТЕМНОГО ПРОГРАММИРОВАНИЯ \n",
      " \n",
      " \n",
      " \n",
      "\n",
      " \n",
      "\n",
      " \n",
      " \n",
      " \n",
      "ДИПЛОМНАЯ РАБОТА \n",
      "\n",
      "Тема: «Программа выявления неуникальных фрагментов \n",
      "текстов в документах​ ​» \n",
      "Թեմա՝ «Փաստաթղթերում տեքստի ոչ եզակի բեկորները պարզելու \n",
      "ծրագիր» \n",
      "\n",
      " \n",
      "\n",
      " \n",
      " \n",
      "Исполнитель: \n",
      "_________________________​                          студентка 4 курса Ешилбашян Ева Максимовна \n",
      "                 подпись \n",
      "\n",
      " \n",
      "\n",
      "                                                                                                          ​Научный \n",
      "руководитель: \n",
      "_________________________                                                ​              ​к.ф.м.н.​ ​Саргсян Севак Сеникович \n",
      "              ​подпись \n",
      "                                                                                                                                                    ​Зав.кафедрой: \n",
      "_______________________________                                                                          ​к.ф.м.н.​ ​Саргсян Севак Сеникович \n",
      " \n",
      "                подпись\n",
      "\n",
      " \n",
      "\n",
      "ЕРЕВАН 2020 \n",
      "\n",
      "\f",
      "\n"
     ]
    }
   ],
   "source": [
    "output_string = StringIO()\n",
    "with open(FILE_PATH, 'rb') as in_file:\n",
    "    parser = PDFParser(in_file)\n",
    "    doc = PDFDocument(parser)\n",
    "    rsrcmgr = PDFResourceManager()\n",
    "    device = TextConverter(rsrcmgr, output_string, laparams=LAParams())\n",
    "    interpreter = PDFPageInterpreter(rsrcmgr, device)\n",
    "    \n",
    "    for page in PDFPage.create_pages(doc):\n",
    "        interpreter.process_page(page)\n",
    "        break\n",
    "\n",
    "print(output_string.getvalue())"
   ]
  }
 ],
 "metadata": {
  "kernelspec": {
   "display_name": "Python 3",
   "language": "python",
   "name": "python3"
  },
  "language_info": {
   "codemirror_mode": {
    "name": "ipython",
    "version": 3
   },
   "file_extension": ".py",
   "mimetype": "text/x-python",
   "name": "python",
   "nbconvert_exporter": "python",
   "pygments_lexer": "ipython3",
   "version": "3.8.10"
  }
 },
 "nbformat": 4,
 "nbformat_minor": 2
}
